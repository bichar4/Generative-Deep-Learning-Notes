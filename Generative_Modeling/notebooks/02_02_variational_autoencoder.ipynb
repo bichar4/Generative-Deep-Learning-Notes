{
 "cells": [
  {
   "cell_type": "code",
   "execution_count": null,
   "id": "14f99d6d-5cd6-4893-9c98-3e6efd2e5b59",
   "metadata": {},
   "outputs": [],
   "source": []
  }
 ],
 "metadata": {
  "kernelspec": {
   "display_name": "Generative_modeling",
   "language": "python",
   "name": "generative_modeling"
  },
  "language_info": {
   "codemirror_mode": {
    "name": "ipython",
    "version": 3
   },
   "file_extension": ".py",
   "mimetype": "text/x-python",
   "name": "python",
   "nbconvert_exporter": "python",
   "pygments_lexer": "ipython3",
   "version": "3.10.10"
  }
 },
 "nbformat": 4,
 "nbformat_minor": 5
}
