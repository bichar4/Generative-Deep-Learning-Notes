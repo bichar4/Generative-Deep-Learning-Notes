{
 "cells": [
  {
   "cell_type": "code",
   "execution_count": 1,
   "id": "d82d1453-eefc-4a6e-bc9a-9a2900ee01e9",
   "metadata": {},
   "outputs": [
    {
     "name": "stderr",
     "output_type": "stream",
     "text": [
      "2023-08-04 01:34:23.077188: I tensorflow/core/platform/cpu_feature_guard.cc:193] This TensorFlow binary is optimized with oneAPI Deep Neural Network Library (oneDNN) to use the following CPU instructions in performance-critical operations:  AVX2 AVX512F AVX512_VNNI FMA\n",
      "To enable them in other operations, rebuild TensorFlow with the appropriate compiler flags.\n",
      "2023-08-04 01:34:23.163131: I tensorflow/core/util/util.cc:169] oneDNN custom operations are on. You may see slightly different numerical results due to floating-point round-off errors from different computation orders. To turn them off, set the environment variable `TF_ENABLE_ONEDNN_OPTS=0`.\n",
      "2023-08-04 01:34:23.184137: E tensorflow/stream_executor/cuda/cuda_blas.cc:2981] Unable to register cuBLAS factory: Attempting to register factory for plugin cuBLAS when one has already been registered\n",
      "2023-08-04 01:34:23.500782: W tensorflow/stream_executor/platform/default/dso_loader.cc:64] Could not load dynamic library 'libnvinfer.so.7'; dlerror: libnvinfer.so.7: cannot open shared object file: No such file or directory\n",
      "2023-08-04 01:34:23.500818: W tensorflow/stream_executor/platform/default/dso_loader.cc:64] Could not load dynamic library 'libnvinfer_plugin.so.7'; dlerror: libnvinfer_plugin.so.7: cannot open shared object file: No such file or directory\n",
      "2023-08-04 01:34:23.500823: W tensorflow/compiler/tf2tensorrt/utils/py_utils.cc:38] TF-TRT Warning: Cannot dlopen some TensorRT libraries. If you would like to use Nvidia GPU with TensorRT, please make sure the missing libraries mentioned above are installed properly.\n",
      "2023-08-04 01:34:24.039715: I tensorflow/stream_executor/cuda/cuda_gpu_executor.cc:980] successful NUMA node read from SysFS had negative value (-1), but there must be at least one NUMA node, so returning NUMA node zero\n",
      "2023-08-04 01:34:24.075189: I tensorflow/stream_executor/cuda/cuda_gpu_executor.cc:980] successful NUMA node read from SysFS had negative value (-1), but there must be at least one NUMA node, so returning NUMA node zero\n",
      "2023-08-04 01:34:24.075287: I tensorflow/stream_executor/cuda/cuda_gpu_executor.cc:980] successful NUMA node read from SysFS had negative value (-1), but there must be at least one NUMA node, so returning NUMA node zero\n",
      "2023-08-04 01:34:24.075871: I tensorflow/core/platform/cpu_feature_guard.cc:193] This TensorFlow binary is optimized with oneAPI Deep Neural Network Library (oneDNN) to use the following CPU instructions in performance-critical operations:  AVX2 AVX512F AVX512_VNNI FMA\n",
      "To enable them in other operations, rebuild TensorFlow with the appropriate compiler flags.\n",
      "2023-08-04 01:34:24.077040: I tensorflow/stream_executor/cuda/cuda_gpu_executor.cc:980] successful NUMA node read from SysFS had negative value (-1), but there must be at least one NUMA node, so returning NUMA node zero\n",
      "2023-08-04 01:34:24.077144: I tensorflow/stream_executor/cuda/cuda_gpu_executor.cc:980] successful NUMA node read from SysFS had negative value (-1), but there must be at least one NUMA node, so returning NUMA node zero\n",
      "2023-08-04 01:34:24.077219: I tensorflow/stream_executor/cuda/cuda_gpu_executor.cc:980] successful NUMA node read from SysFS had negative value (-1), but there must be at least one NUMA node, so returning NUMA node zero\n",
      "2023-08-04 01:34:24.443971: I tensorflow/stream_executor/cuda/cuda_gpu_executor.cc:980] successful NUMA node read from SysFS had negative value (-1), but there must be at least one NUMA node, so returning NUMA node zero\n",
      "2023-08-04 01:34:24.444130: I tensorflow/stream_executor/cuda/cuda_gpu_executor.cc:980] successful NUMA node read from SysFS had negative value (-1), but there must be at least one NUMA node, so returning NUMA node zero\n",
      "2023-08-04 01:34:24.444231: I tensorflow/stream_executor/cuda/cuda_gpu_executor.cc:980] successful NUMA node read from SysFS had negative value (-1), but there must be at least one NUMA node, so returning NUMA node zero\n",
      "2023-08-04 01:34:24.444329: I tensorflow/core/common_runtime/gpu/gpu_device.cc:1616] Created device /job:localhost/replica:0/task:0/device:GPU:0 with 14074 MB memory:  -> device: 0, name: NVIDIA GeForce RTX 3080 Laptop GPU, pci bus id: 0000:01:00.0, compute capability: 8.6\n"
     ]
    },
    {
     "name": "stdout",
     "output_type": "stream",
     "text": [
      "1 Physical GPUs, 1 Logical GPUs\n"
     ]
    }
   ],
   "source": [
    "%load_ext autoreload \n",
    "%autoreload 2 \n",
    "\n",
    "import numpy as np\n",
    "import tensorflow as tf\n",
    "gpus = tf.config.list_physical_devices('GPU')\n",
    "if gpus:\n",
    "  try:\n",
    "    # Currently, memory growth needs to be the same across GPUs\n",
    "    for gpu in gpus:\n",
    "      tf.config.experimental.set_memory_growth(gpu, True)\n",
    "    logical_gpus = tf.config.list_logical_devices('GPU')\n",
    "    print(len(gpus), \"Physical GPUs,\", len(logical_gpus), \"Logical GPUs\")\n",
    "  except RuntimeError as e:\n",
    "    # Memory growth must be set before GPUs have been initialized\n",
    "    print(e)\n",
    "from tensorflow.keras import datasets, layers, models, optimizers, callbacks\n",
    "\n",
    "\n",
    "from utils import display, sample_batch"
   ]
  },
  {
   "cell_type": "markdown",
   "id": "e547523a-7b0d-4a8e-a00d-c7b3165f0c1f",
   "metadata": {},
   "source": [
    "### Parameters "
   ]
  },
  {
   "cell_type": "code",
   "execution_count": 5,
   "id": "967b7b9c-aba9-47ae-88a8-335d91baaae2",
   "metadata": {
    "tags": []
   },
   "outputs": [],
   "source": [
    "IMAGE_SIZE = 16 \n",
    "PIXEL_LEVELS = 4 \n",
    "N_FILTERS = 128\n",
    "RESIDUAL_BLOCKS = 5\n",
    "BATCH_SIZE = 128\n",
    "EPOCHS = 150"
   ]
  },
  {
   "cell_type": "code",
   "execution_count": 3,
   "id": "96dc49e5-e172-4bdc-a7cd-06f1ce1263bb",
   "metadata": {
    "tags": []
   },
   "outputs": [],
   "source": [
    "(x_train,_), (_,_) = datasets.fashion_mnist.load_data()"
   ]
  },
  {
   "cell_type": "code",
   "execution_count": 6,
   "id": "b70d1e1a-6acf-4828-837b-f6894c788c82",
   "metadata": {
    "tags": []
   },
   "outputs": [],
   "source": [
    "# Preprocess the data\n",
    "def preprocess(imgs_int):\n",
    "    imgs_int = np.expand_dims(imgs_int, -1)\n",
    "    imgs_int = tf.image.resize(imgs_int, (IMAGE_SIZE, IMAGE_SIZE)).numpy()\n",
    "    imgs_int = (imgs_int / (256 / PIXEL_LEVELS)).astype(int)\n",
    "    imgs = imgs_int.astype(\"float32\")\n",
    "    imgs = imgs / PIXEL_LEVELS\n",
    "    return imgs, imgs_int\n",
    "\n",
    "\n",
    "input_data, output_data = preprocess(x_train)"
   ]
  },
  {
   "cell_type": "code",
   "execution_count": 7,
   "id": "1de2b669-16b2-405b-9700-5ccdb8790fe6",
   "metadata": {
    "tags": []
   },
   "outputs": [
    {
     "data": {
      "image/png": "[encoded data removed]",
      "text/plain": [
       "<Figure size 2000x300 with 10 Axes>"
      ]
     },
     "metadata": {},
     "output_type": "display_data"
    }
   ],
   "source": [
    "display(input_data)"
   ]
  },
  {
   "cell_type": "markdown",
   "id": "c5bd4ef8-e024-4ced-8786-dd3d79cad257",
   "metadata": {},
   "source": [
    "### Build the PixelCNN"
   ]
  },
  {
   "cell_type": "code",
   "execution_count": 9,
   "id": "5b4c8505-7973-4d09-8ad9-34583b5b97a5",
   "metadata": {
    "tags": []
   },
   "outputs": [],
   "source": [
    "#The first layer is the PixelCNN layer. This layer simply builds on the 2D convolutional layer, but includes masking \n",
    "\n",
    "class MaskedConv2D(layers.Layer):\n",
    "    def __init__(self,mask_type,**kwargs):\n",
    "        super(MaskedConv2D, self).__init__()\n",
    "        self.mask_type = mask_type\n",
    "        self.conv = layers.Conv2D(**kwargs)\n",
    "        \n",
    "    def build(self,input_shape):\n",
    "        #Build the conv2D layer to initialize kernel variables \n",
    "        self.conv.build(input_shape)\n",
    "        \n",
    "        #Use the initialized kernel to create the mask \n",
    "        kernel_shape = self.conv.kernel.get_shape()\n",
    "        self.mask = np.zeros(shape=kernel_shape)\n",
    "        self.mask[: kernel_shape[0] // 2, ...] = 1.0 \n",
    "        self.mask[kernel_shape[0] // 2, : kernel_shape[1] // 2, ...] = 1.0 \n",
    "        if self.mask_type == \"B\":\n",
    "            self.mask[kernel_shape[0] // 2, kernel_shape[1] //2, ...] = 1.0 \n",
    "            \n",
    "    def call(self,inputs):\n",
    "        self.conv.kernel.assign(self.conv.kernel * self.mask)\n",
    "        return self.conv(inputs)\n",
    "    \n",
    "    def get_config(self):\n",
    "        cfg = super().get_config()\n",
    "        return cfg "
   ]
  },
  {
   "cell_type": "code",
   "execution_count": 10,
   "id": "fb5cef5e-85e0-4942-a91c-68919878f29a",
   "metadata": {
    "tags": []
   },
   "outputs": [],
   "source": [
    "class ResidualBlock(layers.Layer):\n",
    "    def __init__(self, filters, **kwargs):\n",
    "        super(ResidualBlock, self).__init__(**kwargs)\n",
    "        self.conv1 = layers.Conv2D(\n",
    "            filters = filters // 2, kernel_size=1, activation=\"relu\")\n",
    "        self.pixel_conv = MaskedConv2D(\n",
    "            mask_type=\"B\",\n",
    "            filters = filters // 2, \n",
    "            kernel_size = 3,\n",
    "            activation=\"relu\",\n",
    "            padding=\"same\",\n",
    "        )\n",
    "        self.conv2 = layers.Conv2D(\n",
    "            filters = filters, kernel_size=1, activation=\"relu\"\n",
    "        )\n",
    "        \n",
    "    def call(self, inputs):\n",
    "        x = self.conv1(inputs)\n",
    "        x = self.pixel_conv(x)\n",
    "        x = self.conv2(x)\n",
    "        return layers.add([inputs,x])\n",
    "    \n",
    "    def get_config(self):\n",
    "        cfg = super().get_config()\n",
    "        return cfg"
   ]
  },
  {
   "cell_type": "code",
   "execution_count": 12,
   "id": "95a5e873-2b0f-4529-9eab-c7a6501cc9cb",
   "metadata": {
    "tags": []
   },
   "outputs": [
    {
     "name": "stdout",
     "output_type": "stream",
     "text": [
      "Model: \"model\"\n",
      "_________________________________________________________________\n",
      " Layer (type)                Output Shape              Param #   \n",
      "=================================================================\n",
      " input_2 (InputLayer)        [(None, 16, 16, 1)]       0         \n",
      "                                                                 \n",
      " masked_conv2d_8 (MaskedConv  (None, 16, 16, 128)      6400      \n",
      " 2D)                                                             \n",
      "                                                                 \n",
      " residual_block_5 (ResidualB  (None, 16, 16, 128)      53504     \n",
      " lock)                                                           \n",
      "                                                                 \n",
      " residual_block_6 (ResidualB  (None, 16, 16, 128)      53504     \n",
      " lock)                                                           \n",
      "                                                                 \n",
      " residual_block_7 (ResidualB  (None, 16, 16, 128)      53504     \n",
      " lock)                                                           \n",
      "                                                                 \n",
      " residual_block_8 (ResidualB  (None, 16, 16, 128)      53504     \n",
      " lock)                                                           \n",
      "                                                                 \n",
      " residual_block_9 (ResidualB  (None, 16, 16, 128)      53504     \n",
      " lock)                                                           \n",
      "                                                                 \n",
      " masked_conv2d_14 (MaskedCon  (None, 16, 16, 128)      16512     \n",
      " v2D)                                                            \n",
      "                                                                 \n",
      " masked_conv2d_15 (MaskedCon  (None, 16, 16, 128)      16512     \n",
      " v2D)                                                            \n",
      "                                                                 \n",
      " conv2d_36 (Conv2D)          (None, 16, 16, 4)         516       \n",
      "                                                                 \n",
      "=================================================================\n",
      "Total params: 307,460\n",
      "Trainable params: 307,460\n",
      "Non-trainable params: 0\n",
      "_________________________________________________________________\n"
     ]
    }
   ],
   "source": [
    "inputs = layers.Input(shape=(IMAGE_SIZE,IMAGE_SIZE,1))\n",
    "x = MaskedConv2D(\n",
    "    mask_type=\"A\",\n",
    "    filters=N_FILTERS,\n",
    "    kernel_size=7,\n",
    "    activation=\"relu\",\n",
    "    padding=\"same\",\n",
    ")(inputs)\n",
    "\n",
    "for _ in range(RESIDUAL_BLOCKS):\n",
    "    x = ResidualBlock(filters=N_FILTERS)(x)\n",
    "    \n",
    "for _ in range(2):\n",
    "    x = MaskedConv2D(\n",
    "        mask_type = \"B\",\n",
    "        filters = N_FILTERS,\n",
    "        kernel_size=1,\n",
    "        strides=1,\n",
    "        activation=\"relu\",\n",
    "        padding=\"valid\",\n",
    "    )(x)\n",
    "out = layers.Conv2D(\n",
    "    filters = PIXEL_LEVELS,\n",
    "    kernel_size=1,\n",
    "    strides=1,\n",
    "    activation=\"softmax\",\n",
    "    padding=\"valid\",\n",
    ")(x)\n",
    "pixel_cnn = models.Model(inputs,out)\n",
    "pixel_cnn.summary()"
   ]
  },
  {
   "cell_type": "markdown",
   "id": "7af352f7-de20-421a-bcbb-ade415ad63ec",
   "metadata": {},
   "source": [
    "###  Train the PixelCNN"
   ]
  },
  {
   "cell_type": "code",
   "execution_count": 13,
   "id": "9c8f1220-5488-4b2a-8f9b-327b50ba0249",
   "metadata": {
    "tags": []
   },
   "outputs": [],
   "source": [
    "adam = optimizers.Adam(learning_rate=0.0005)\n",
    "pixel_cnn.compile(optimizer=adam, loss=\"sparse_categorical_crossentropy\")"
   ]
  },
  {
   "cell_type": "code",
   "execution_count": 14,
   "id": "dd710226-b49a-428e-ae60-1d592c7e2faf",
   "metadata": {
    "tags": []
   },
   "outputs": [],
   "source": [
    "tensorboard_callback = callbacks.TensorBoard(log_dir=\"./logs\")\n",
    "\n",
    "\n",
    "class ImageGenerator(callbacks.Callback):\n",
    "    def __init__(self, num_img):\n",
    "        self.num_img = num_img\n",
    "\n",
    "    def sample_from(self, probs, temperature):  # <2>\n",
    "        probs = probs ** (1 / temperature)\n",
    "        probs = probs / np.sum(probs)\n",
    "        return np.random.choice(len(probs), p=probs)\n",
    "\n",
    "    def generate(self, temperature):\n",
    "        generated_images = np.zeros(\n",
    "            shape=(self.num_img,) + (pixel_cnn.input_shape)[1:]\n",
    "        )\n",
    "        batch, rows, cols, channels = generated_images.shape\n",
    "\n",
    "        for row in range(rows):\n",
    "            for col in range(cols):\n",
    "                for channel in range(channels):\n",
    "                    probs = self.model.predict(generated_images, verbose=0)[\n",
    "                        :, row, col, :\n",
    "                    ]\n",
    "                    generated_images[:, row, col, channel] = [\n",
    "                        self.sample_from(x, temperature) for x in probs\n",
    "                    ]\n",
    "                    generated_images[:, row, col, channel] /= PIXEL_LEVELS\n",
    "\n",
    "        return generated_images\n",
    "\n",
    "    def on_epoch_end(self, epoch, logs=None):\n",
    "        generated_images = self.generate(temperature=1.0)\n",
    "        display(\n",
    "            generated_images,\n",
    "            save_to=\"./output/generated_img_%03d.png\" % (epoch),\n",
    "        )\n",
    "\n",
    "\n",
    "img_generator_callback = ImageGenerator(num_img=10)"
   ]
  },
  {
   "cell_type": "code",
   "execution_count": 16,
   "id": "024c43ac-5b55-45e2-9aac-4c81caa31945",
   "metadata": {
    "tags": []
   },
   "outputs": [
    {
     "data": {
      "text/plain": [
       "array([[[0],\n",
       "        [0],\n",
       "        [0],\n",
       "        [0],\n",
       "        [0],\n",
       "        [0],\n",
       "        [0],\n",
       "        [0],\n",
       "        [0],\n",
       "        [0],\n",
       "        [0],\n",
       "        [0],\n",
       "        [0],\n",
       "        [0],\n",
       "        [0],\n",
       "        [0]],\n",
       "\n",
       "       [[0],\n",
       "        [0],\n",
       "        [0],\n",
       "        [0],\n",
       "        [0],\n",
       "        [0],\n",
       "        [0],\n",
       "        [0],\n",
       "        [0],\n",
       "        [0],\n",
       "        [0],\n",
       "        [0],\n",
       "        [0],\n",
       "        [0],\n",
       "        [0],\n",
       "        [0]],\n",
       "\n",
       "       [[0],\n",
       "        [0],\n",
       "        [0],\n",
       "        [0],\n",
       "        [0],\n",
       "        [0],\n",
       "        [0],\n",
       "        [0],\n",
       "        [1],\n",
       "        [1],\n",
       "        [0],\n",
       "        [0],\n",
       "        [0],\n",
       "        [0],\n",
       "        [0],\n",
       "        [0]],\n",
       "\n",
       "       [[0],\n",
       "        [0],\n",
       "        [0],\n",
       "        [0],\n",
       "        [0],\n",
       "        [0],\n",
       "        [0],\n",
       "        [0],\n",
       "        [2],\n",
       "        [2],\n",
       "        [1],\n",
       "        [1],\n",
       "        [0],\n",
       "        [0],\n",
       "        [1],\n",
       "        [0]],\n",
       "\n",
       "       [[0],\n",
       "        [0],\n",
       "        [0],\n",
       "        [0],\n",
       "        [0],\n",
       "        [0],\n",
       "        [0],\n",
       "        [1],\n",
       "        [3],\n",
       "        [3],\n",
       "        [3],\n",
       "        [2],\n",
       "        [2],\n",
       "        [2],\n",
       "        [2],\n",
       "        [1]],\n",
       "\n",
       "       [[0],\n",
       "        [0],\n",
       "        [0],\n",
       "        [0],\n",
       "        [0],\n",
       "        [0],\n",
       "        [0],\n",
       "        [1],\n",
       "        [3],\n",
       "        [3],\n",
       "        [3],\n",
       "        [3],\n",
       "        [3],\n",
       "        [3],\n",
       "        [3],\n",
       "        [1]],\n",
       "\n",
       "       [[0],\n",
       "        [0],\n",
       "        [0],\n",
       "        [0],\n",
       "        [0],\n",
       "        [0],\n",
       "        [0],\n",
       "        [2],\n",
       "        [3],\n",
       "        [3],\n",
       "        [2],\n",
       "        [3],\n",
       "        [3],\n",
       "        [3],\n",
       "        [3],\n",
       "        [1]],\n",
       "\n",
       "       [[0],\n",
       "        [0],\n",
       "        [0],\n",
       "        [0],\n",
       "        [0],\n",
       "        [0],\n",
       "        [0],\n",
       "        [2],\n",
       "        [3],\n",
       "        [3],\n",
       "        [3],\n",
       "        [3],\n",
       "        [3],\n",
       "        [3],\n",
       "        [2],\n",
       "        [0]],\n",
       "\n",
       "       [[0],\n",
       "        [0],\n",
       "        [0],\n",
       "        [0],\n",
       "        [0],\n",
       "        [0],\n",
       "        [1],\n",
       "        [3],\n",
       "        [3],\n",
       "        [3],\n",
       "        [3],\n",
       "        [3],\n",
       "        [3],\n",
       "        [3],\n",
       "        [3],\n",
       "        [0]],\n",
       "\n",
       "       [[0],\n",
       "        [0],\n",
       "        [0],\n",
       "        [1],\n",
       "        [2],\n",
       "        [3],\n",
       "        [3],\n",
       "        [3],\n",
       "        [3],\n",
       "        [3],\n",
       "        [3],\n",
       "        [3],\n",
       "        [3],\n",
       "        [3],\n",
       "        [3],\n",
       "        [1]],\n",
       "\n",
       "       [[1],\n",
       "        [3],\n",
       "        [3],\n",
       "        [3],\n",
       "        [3],\n",
       "        [3],\n",
       "        [3],\n",
       "        [2],\n",
       "        [3],\n",
       "        [3],\n",
       "        [3],\n",
       "        [2],\n",
       "        [3],\n",
       "        [3],\n",
       "        [3],\n",
       "        [1]],\n",
       "\n",
       "       [[2],\n",
       "        [3],\n",
       "        [3],\n",
       "        [3],\n",
       "        [3],\n",
       "        [3],\n",
       "        [3],\n",
       "        [3],\n",
       "        [2],\n",
       "        [2],\n",
       "        [3],\n",
       "        [3],\n",
       "        [3],\n",
       "        [3],\n",
       "        [3],\n",
       "        [1]],\n",
       "\n",
       "       [[1],\n",
       "        [3],\n",
       "        [3],\n",
       "        [2],\n",
       "        [3],\n",
       "        [3],\n",
       "        [3],\n",
       "        [3],\n",
       "        [3],\n",
       "        [3],\n",
       "        [3],\n",
       "        [3],\n",
       "        [2],\n",
       "        [2],\n",
       "        [3],\n",
       "        [2]],\n",
       "\n",
       "       [[0],\n",
       "        [1],\n",
       "        [2],\n",
       "        [2],\n",
       "        [2],\n",
       "        [2],\n",
       "        [3],\n",
       "        [3],\n",
       "        [3],\n",
       "        [3],\n",
       "        [3],\n",
       "        [3],\n",
       "        [2],\n",
       "        [2],\n",
       "        [3],\n",
       "        [0]],\n",
       "\n",
       "       [[0],\n",
       "        [0],\n",
       "        [0],\n",
       "        [0],\n",
       "        [1],\n",
       "        [1],\n",
       "        [1],\n",
       "        [0],\n",
       "        [0],\n",
       "        [0],\n",
       "        [0],\n",
       "        [0],\n",
       "        [0],\n",
       "        [0],\n",
       "        [0],\n",
       "        [0]],\n",
       "\n",
       "       [[0],\n",
       "        [0],\n",
       "        [0],\n",
       "        [0],\n",
       "        [0],\n",
       "        [0],\n",
       "        [0],\n",
       "        [0],\n",
       "        [0],\n",
       "        [0],\n",
       "        [0],\n",
       "        [0],\n",
       "        [0],\n",
       "        [0],\n",
       "        [0],\n",
       "        [0]]])"
      ]
     },
     "execution_count": 16,
     "metadata": {},
     "output_type": "execute_result"
    }
   ],
   "source": [
    "output_data[0]"
   ]
  },
  {
   "cell_type": "code",
   "execution_count": 17,
   "id": "75731895-374b-46f2-bbfa-f85d3de75993",
   "metadata": {
    "tags": []
   },
   "outputs": [
    {
     "name": "stdout",
     "output_type": "stream",
     "text": [
      "Epoch 1/150\n"
     ]
    },
    {
     "name": "stderr",
     "output_type": "stream",
     "text": [
      "2023-08-04 02:21:56.655360: I tensorflow/stream_executor/cuda/cuda_dnn.cc:384] Loaded cuDNN version 8400\n",
      "2023-08-04 02:21:57.431903: I tensorflow/stream_executor/cuda/cuda_blas.cc:1614] TensorFloat-32 will be used for the matrix multiplication. This will only be logged once.\n"
     ]
    },
    {
     "name": "stdout",
     "output_type": "stream",
     "text": [
      "  4/469 [..............................] - ETA: 7s - loss: 1.3729   WARNING:tensorflow:Callback method `on_train_batch_end` is slow compared to the batch time (batch time: 0.0078s vs `on_train_batch_end` time: 0.0103s). Check your callbacks.\n",
      "469/469 [==============================] - ETA: 0s - loss: 0.4908\n",
      "Saved to ./output/generated_img_000.png\n"
     ]
    },
    {
     "data": {
      "image/png": "[encoded data removed]",
      "text/plain": [
       "<Figure size 2000x300 with 10 Axes>"
      ]
     },
     "metadata": {},
     "output_type": "display_data"
    },
    {
     "name": "stdout",
     "output_type": "stream",
     "text": [
      "469/469 [==============================] - 17s 31ms/step - loss: 0.4908\n",
      "Epoch 2/150\n",
      "467/469 [============================>.] - ETA: 0s - loss: 0.4017\n",
      "Saved to ./output/generated_img_001.png\n"
     ]
    },
    {
     "data": {
      "image/png": "[encoded data removed]",
      "text/plain": [
       "<Figure size 2000x300 with 10 Axes>"
      ]
     },
     "metadata": {},
     "output_type": "display_data"
    },
    {
     "name": "stdout",
     "output_type": "stream",
     "text": [
      "469/469 [==============================] - 14s 31ms/step - loss: 0.4017\n",
      "Epoch 3/150\n",
      "466/469 [============================>.] - ETA: 0s - loss: 0.3888\n",
      "Saved to ./output/generated_img_002.png\n"
     ]
    },
    {
     "data": {
      "image/png": "[encoded data removed]",
      "text/plain": [
       "<Figure size 2000x300 with 10 Axes>"
      ]
     },
     "metadata": {},
     "output_type": "display_data"
    },
    {
     "name": "stdout",
     "output_type": "stream",
     "text": [
      "469/469 [==============================] - 15s 31ms/step - loss: 0.3887\n",
      "Epoch 4/150\n",
      "467/469 [============================>.] - ETA: 0s - loss: 0.3820\n",
      "Saved to ./output/generated_img_003.png\n"
     ]
    },
    {
     "data": {
      "image/png": "[encoded data removed]",
      "text/plain": [
       "<Figure size 2000x300 with 10 Axes>"
      ]
     },
     "metadata": {},
     "output_type": "display_data"
    },
    {
     "name": "stdout",
     "output_type": "stream",
     "text": [
      "469/469 [==============================] - 15s 31ms/step - loss: 0.3820\n",
      "Epoch 5/150\n",
      "469/469 [==============================] - ETA: 0s - loss: 0.3772\n",
      "Saved to ./output/generated_img_004.png\n"
     ]
    },
    {
     "data": {
      "image/png": "[encoded data removed]",
      "text/plain": [
       "<Figure size 2000x300 with 10 Axes>"
      ]
     },
     "metadata": {},
     "output_type": "display_data"
    },
    {
     "name": "stdout",
     "output_type": "stream",
     "text": [
      "469/469 [==============================] - 15s 32ms/step - loss: 0.3772\n",
      "Epoch 6/150\n",
      "469/469 [==============================] - ETA: 0s - loss: 0.3737\n",
      "Saved to ./output/generated_img_005.png\n"
     ]
    },
    {
     "data": {
      "image/png": "[encoded data removed]",
      "text/plain": [
       "<Figure size 2000x300 with 10 Axes>"
      ]
     },
     "metadata": {},
     "output_type": "display_data"
    },
    {
     "name": "stdout",
     "output_type": "stream",
     "text": [
      "469/469 [==============================] - 15s 31ms/step - loss: 0.3737\n",
      "Epoch 7/150\n",
      "467/469 [============================>.] - ETA: 0s - loss: 0.3702\n",
      "Saved to ./output/generated_img_006.png\n"
     ]
    },
    {
     "data": {
      "image/png": "[encoded data removed]",
      "text/plain": [
       "<Figure size 2000x300 with 10 Axes>"
      ]
     },
     "metadata": {},
     "output_type": "display_data"
    },
    {
     "name": "stdout",
     "output_type": "stream",
     "text": [
      "469/469 [==============================] - 15s 32ms/step - loss: 0.3702\n",
      "Epoch 8/150\n",
      "466/469 [============================>.] - ETA: 0s - loss: 0.3678\n",
      "Saved to ./output/generated_img_007.png\n"
     ]
    },
    {
     "data": {
      "image/png": "[encoded data removed]",
      "text/plain": [
       "<Figure size 2000x300 with 10 Axes>"
      ]
     },
     "metadata": {},
     "output_type": "display_data"
    },
    {
     "name": "stdout",
     "output_type": "stream",
     "text": [
      "469/469 [==============================] - 15s 32ms/step - loss: 0.3678\n",
      "Epoch 9/150\n",
      "468/469 [============================>.] - ETA: 0s - loss: 0.3649\n",
      "Saved to ./output/generated_img_008.png\n"
     ]
    },
    {
     "data": {
      "image/png": "[encoded data removed]",
      "text/plain": [
       "<Figure size 2000x300 with 10 Axes>"
      ]
     },
     "metadata": {},
     "output_type": "display_data"
    },
    {
     "name": "stdout",
     "output_type": "stream",
     "text": [
      "469/469 [==============================] - 15s 31ms/step - loss: 0.3649\n",
      "Epoch 10/150\n",
      "467/469 [============================>.] - ETA: 0s - loss: 0.3630\n",
      "Saved to ./output/generated_img_009.png\n"
     ]
    },
    {
     "data": {
      "image/png": "[encoded data removed]",
      "text/plain": [
       "<Figure size 2000x300 with 10 Axes>"
      ]
     },
     "metadata": {},
     "output_type": "display_data"
    },
    {
     "name": "stdout",
     "output_type": "stream",
     "text": [
      "469/469 [==============================] - 15s 32ms/step - loss: 0.3630\n",
      "Epoch 11/150\n",
      "467/469 [============================>.] - ETA: 0s - loss: 0.3607\n",
      "Saved to ./output/generated_img_010.png\n"
     ]
    },
    {
     "data": {
      "image/png": "[encoded data removed]",
      "text/plain": [
       "<Figure size 2000x300 with 10 Axes>"
      ]
     },
     "metadata": {},
     "output_type": "display_data"
    },
    {
     "name": "stdout",
     "output_type": "stream",
     "text": [
      "469/469 [==============================] - 15s 31ms/step - loss: 0.3608\n",
      "Epoch 12/150\n",
      "466/469 [============================>.] - ETA: 0s - loss: 0.3588\n",
      "Saved to ./output/generated_img_011.png\n"
     ]
    },
    {
     "data": {
      "image/png": "[encoded data removed]",
      "text/plain": [
       "<Figure size 2000x300 with 10 Axes>"
      ]
     },
     "metadata": {},
     "output_type": "display_data"
    },
    {
     "name": "stdout",
     "output_type": "stream",
     "text": [
      "469/469 [==============================] - 15s 32ms/step - loss: 0.3588\n",
      "Epoch 13/150\n",
      "466/469 [============================>.] - ETA: 0s - loss: 0.3572\n",
      "Saved to ./output/generated_img_012.png\n"
     ]
    },
    {
     "data": {
      "image/png": "[encoded data removed]",
      "text/plain": [
       "<Figure size 2000x300 with 10 Axes>"
      ]
     },
     "metadata": {},
     "output_type": "display_data"
    },
    {
     "name": "stdout",
     "output_type": "stream",
     "text": [
      "469/469 [==============================] - 15s 31ms/step - loss: 0.3572\n",
      "Epoch 14/150\n",
      "468/469 [============================>.] - ETA: 0s - loss: 0.3556\n",
      "Saved to ./output/generated_img_013.png\n"
     ]
    },
    {
     "data": {
      "image/png": "[encoded data removed]",
      "text/plain": [
       "<Figure size 2000x300 with 10 Axes>"
      ]
     },
     "metadata": {},
     "output_type": "display_data"
    },
    {
     "name": "stdout",
     "output_type": "stream",
     "text": [
      "469/469 [==============================] - 15s 32ms/step - loss: 0.3556\n",
      "Epoch 15/150\n",
      "468/469 [============================>.] - ETA: 0s - loss: 0.3544\n",
      "Saved to ./output/generated_img_014.png\n"
     ]
    },
    {
     "data": {
      "image/png": "[encoded data removed]",
      "text/plain": [
       "<Figure size 2000x300 with 10 Axes>"
      ]
     },
     "metadata": {},
     "output_type": "display_data"
    },
    {
     "name": "stdout",
     "output_type": "stream",
     "text": [
      "469/469 [==============================] - 15s 31ms/step - loss: 0.3543\n",
      "Epoch 16/150\n",
      "469/469 [==============================] - ETA: 0s - loss: 0.3532\n",
      "Saved to ./output/generated_img_015.png\n"
     ]
    },
    {
     "data": {
      "image/png": "[encoded data removed]",
      "text/plain": [
       "<Figure size 2000x300 with 10 Axes>"
      ]
     },
     "metadata": {},
     "output_type": "display_data"
    },
    {
     "name": "stdout",
     "output_type": "stream",
     "text": [
      "469/469 [==============================] - 15s 33ms/step - loss: 0.3532\n",
      "Epoch 17/150\n",
      "467/469 [============================>.] - ETA: 0s - loss: 0.3521\n",
      "Saved to ./output/generated_img_016.png\n"
     ]
    },
    {
     "data": {
      "image/png": "[encoded data removed]",
      "text/plain": [
       "<Figure size 2000x300 with 10 Axes>"
      ]
     },
     "metadata": {},
     "output_type": "display_data"
    },
    {
     "name": "stdout",
     "output_type": "stream",
     "text": [
      "469/469 [==============================] - 15s 32ms/step - loss: 0.3521\n",
      "Epoch 18/150\n",
      "466/469 [============================>.] - ETA: 0s - loss: 0.3511\n",
      "Saved to ./output/generated_img_017.png\n"
     ]
    },
    {
     "data": {
      "image/png": "[encoded data removed]",
      "text/plain": [
       "<Figure size 2000x300 with 10 Axes>"
      ]
     },
     "metadata": {},
     "output_type": "display_data"
    },
    {
     "name": "stdout",
     "output_type": "stream",
     "text": [
      "469/469 [==============================] - 15s 32ms/step - loss: 0.3510\n",
      "Epoch 19/150\n",
      "468/469 [============================>.] - ETA: 0s - loss: 0.3499\n",
      "Saved to ./output/generated_img_018.png\n"
     ]
    },
    {
     "data": {
      "image/png": "[encoded data removed]",
      "text/plain": [
       "<Figure size 2000x300 with 10 Axes>"
      ]
     },
     "metadata": {},
     "output_type": "display_data"
    },
    {
     "name": "stdout",
     "output_type": "stream",
     "text": [
      "469/469 [==============================] - 15s 32ms/step - loss: 0.3500\n",
      "Epoch 20/150\n",
      "467/469 [============================>.] - ETA: 0s - loss: 0.3491\n",
      "Saved to ./output/generated_img_019.png\n"
     ]
    },
    {
     "data": {
      "image/png": "[encoded data removed]",
      "text/plain": [
       "<Figure size 2000x300 with 10 Axes>"
      ]
     },
     "metadata": {},
     "output_type": "display_data"
    },
    {
     "name": "stdout",
     "output_type": "stream",
     "text": [
      "469/469 [==============================] - 15s 32ms/step - loss: 0.3491\n",
      "Epoch 21/150\n",
      "468/469 [============================>.] - ETA: 0s - loss: 0.3483\n",
      "Saved to ./output/generated_img_020.png\n"
     ]
    },
    {
     "data": {
      "image/png": "[encoded data removed]",
      "text/plain": [
       "<Figure size 2000x300 with 10 Axes>"
      ]
     },
     "metadata": {},
     "output_type": "display_data"
    },
    {
     "name": "stdout",
     "output_type": "stream",
     "text": [
      "469/469 [==============================] - 15s 32ms/step - loss: 0.3483\n",
      "Epoch 22/150\n",
      "466/469 [============================>.] - ETA: 0s - loss: 0.3476\n",
      "Saved to ./output/generated_img_021.png\n"
     ]
    },
    {
     "data": {
      "image/png": "[encoded data removed]",
      "text/plain": [
       "<Figure size 2000x300 with 10 Axes>"
      ]
     },
     "metadata": {},
     "output_type": "display_data"
    },
    {
     "name": "stdout",
     "output_type": "stream",
     "text": [
      "469/469 [==============================] - 15s 32ms/step - loss: 0.3477\n",
      "Epoch 23/150\n",
      "466/469 [============================>.] - ETA: 0s - loss: 0.3468\n",
      "Saved to ./output/generated_img_022.png\n"
     ]
    },
    {
     "data": {
      "image/png": "[encoded data removed]",
      "text/plain": [
       "<Figure size 2000x300 with 10 Axes>"
      ]
     },
     "metadata": {},
     "output_type": "display_data"
    },
    {
     "name": "stdout",
     "output_type": "stream",
     "text": [
      "469/469 [==============================] - 15s 33ms/step - loss: 0.3468\n",
      "Epoch 24/150\n",
      "467/469 [============================>.] - ETA: 0s - loss: 0.3461\n",
      "Saved to ./output/generated_img_023.png\n"
     ]
    },
    {
     "data": {
      "image/png": "[encoded data removed]",
      "text/plain": [
       "<Figure size 2000x300 with 10 Axes>"
      ]
     },
     "metadata": {},
     "output_type": "display_data"
    },
    {
     "name": "stdout",
     "output_type": "stream",
     "text": [
      "469/469 [==============================] - 15s 32ms/step - loss: 0.3461\n",
      "Epoch 25/150\n",
      "467/469 [============================>.] - ETA: 0s - loss: 0.3454\n",
      "Saved to ./output/generated_img_024.png\n"
     ]
    },
    {
     "data": {
      "image/png": "[encoded data removed]",
      "text/plain": [
       "<Figure size 2000x300 with 10 Axes>"
      ]
     },
     "metadata": {},
     "output_type": "display_data"
    },
    {
     "name": "stdout",
     "output_type": "stream",
     "text": [
      "469/469 [==============================] - 15s 32ms/step - loss: 0.3454\n",
      "Epoch 26/150\n",
      "468/469 [============================>.] - ETA: 0s - loss: 0.3450\n",
      "Saved to ./output/generated_img_025.png\n"
     ]
    },
    {
     "data": {
      "image/png": "[encoded data removed]",
      "text/plain": [
       "<Figure size 2000x300 with 10 Axes>"
      ]
     },
     "metadata": {},
     "output_type": "display_data"
    },
    {
     "name": "stdout",
     "output_type": "stream",
     "text": [
      "469/469 [==============================] - 15s 32ms/step - loss: 0.3450\n",
      "Epoch 27/150\n",
      "469/469 [==============================] - ETA: 0s - loss: 0.3443\n",
      "Saved to ./output/generated_img_026.png\n"
     ]
    },
    {
     "data": {
      "image/png": "[encoded data removed]",
      "text/plain": [
       "<Figure size 2000x300 with 10 Axes>"
      ]
     },
     "metadata": {},
     "output_type": "display_data"
    },
    {
     "name": "stdout",
     "output_type": "stream",
     "text": [
      "469/469 [==============================] - 15s 32ms/step - loss: 0.3443\n",
      "Epoch 28/150\n",
      "467/469 [============================>.] - ETA: 0s - loss: 0.3437\n",
      "Saved to ./output/generated_img_027.png\n"
     ]
    },
    {
     "data": {
      "image/png": "[encoded data removed]",
      "text/plain": [
       "<Figure size 2000x300 with 10 Axes>"
      ]
     },
     "metadata": {},
     "output_type": "display_data"
    },
    {
     "name": "stdout",
     "output_type": "stream",
     "text": [
      "469/469 [==============================] - 15s 33ms/step - loss: 0.3436\n",
      "Epoch 29/150\n",
      "466/469 [============================>.] - ETA: 0s - loss: 0.3429\n",
      "Saved to ./output/generated_img_028.png\n"
     ]
    },
    {
     "data": {
      "image/png": "[encoded data removed]",
      "text/plain": [
       "<Figure size 2000x300 with 10 Axes>"
      ]
     },
     "metadata": {},
     "output_type": "display_data"
    },
    {
     "name": "stdout",
     "output_type": "stream",
     "text": [
      "469/469 [==============================] - 15s 32ms/step - loss: 0.3429\n",
      "Epoch 30/150\n",
      "467/469 [============================>.] - ETA: 0s - loss: 0.3425\n",
      "Saved to ./output/generated_img_029.png\n"
     ]
    },
    {
     "data": {
      "image/png": "[encoded data removed]",
      "text/plain": [
       "<Figure size 2000x300 with 10 Axes>"
      ]
     },
     "metadata": {},
     "output_type": "display_data"
    },
    {
     "name": "stdout",
     "output_type": "stream",
     "text": [
      "469/469 [==============================] - 15s 33ms/step - loss: 0.3425\n",
      "Epoch 31/150\n",
      "467/469 [============================>.] - ETA: 0s - loss: 0.3421\n",
      "Saved to ./output/generated_img_030.png\n"
     ]
    },
    {
     "data": {
      "image/png": "[encoded data removed]",
      "text/plain": [
       "<Figure size 2000x300 with 10 Axes>"
      ]
     },
     "metadata": {},
     "output_type": "display_data"
    },
    {
     "name": "stdout",
     "output_type": "stream",
     "text": [
      "469/469 [==============================] - 15s 32ms/step - loss: 0.3421\n",
      "Epoch 32/150\n",
      "468/469 [============================>.] - ETA: 0s - loss: 0.3415\n",
      "Saved to ./output/generated_img_031.png\n"
     ]
    },
    {
     "data": {
      "image/png": "[encoded data removed]",
      "text/plain": [
       "<Figure size 2000x300 with 10 Axes>"
      ]
     },
     "metadata": {},
     "output_type": "display_data"
    },
    {
     "name": "stdout",
     "output_type": "stream",
     "text": [
      "469/469 [==============================] - 16s 33ms/step - loss: 0.3415\n",
      "Epoch 33/150\n",
      "466/469 [============================>.] - ETA: 0s - loss: 0.3410\n",
      "Saved to ./output/generated_img_032.png\n"
     ]
    },
    {
     "data": {
      "image/png": "[encoded data removed]",
      "text/plain": [
       "<Figure size 2000x300 with 10 Axes>"
      ]
     },
     "metadata": {},
     "output_type": "display_data"
    },
    {
     "name": "stdout",
     "output_type": "stream",
     "text": [
      "469/469 [==============================] - 15s 32ms/step - loss: 0.3411\n",
      "Epoch 34/150\n",
      "468/469 [============================>.] - ETA: 0s - loss: 0.3407\n",
      "Saved to ./output/generated_img_033.png\n"
     ]
    },
    {
     "data": {
      "image/png": "[encoded data removed]",
      "text/plain": [
       "<Figure size 2000x300 with 10 Axes>"
      ]
     },
     "metadata": {},
     "output_type": "display_data"
    },
    {
     "name": "stdout",
     "output_type": "stream",
     "text": [
      "469/469 [==============================] - 15s 33ms/step - loss: 0.3407\n",
      "Epoch 35/150\n",
      "468/469 [============================>.] - ETA: 0s - loss: 0.3402\n",
      "Saved to ./output/generated_img_034.png\n"
     ]
    },
    {
     "data": {
      "image/png": "[encoded data removed]",
      "text/plain": [
       "<Figure size 2000x300 with 10 Axes>"
      ]
     },
     "metadata": {},
     "output_type": "display_data"
    },
    {
     "name": "stdout",
     "output_type": "stream",
     "text": [
      "469/469 [==============================] - 15s 32ms/step - loss: 0.3402\n",
      "Epoch 36/150\n",
      "467/469 [============================>.] - ETA: 0s - loss: 0.3397\n",
      "Saved to ./output/generated_img_035.png\n"
     ]
    },
    {
     "data": {
      "image/png": "[encoded data removed]",
      "text/plain": [
       "<Figure size 2000x300 with 10 Axes>"
      ]
     },
     "metadata": {},
     "output_type": "display_data"
    },
    {
     "name": "stdout",
     "output_type": "stream",
     "text": [
      "469/469 [==============================] - 15s 33ms/step - loss: 0.3397\n",
      "Epoch 37/150\n",
      "467/469 [============================>.] - ETA: 0s - loss: 0.3395\n",
      "Saved to ./output/generated_img_036.png\n"
     ]
    },
    {
     "data": {
      "image/png": "[encoded data removed]",
      "text/plain": [
       "<Figure size 2000x300 with 10 Axes>"
      ]
     },
     "metadata": {},
     "output_type": "display_data"
    },
    {
     "name": "stdout",
     "output_type": "stream",
     "text": [
      "469/469 [==============================] - 15s 32ms/step - loss: 0.3396\n",
      "Epoch 38/150\n",
      "466/469 [============================>.] - ETA: 0s - loss: 0.3388\n",
      "Saved to ./output/generated_img_037.png\n"
     ]
    },
    {
     "data": {
      "image/png": "[encoded data removed]",
      "text/plain": [
       "<Figure size 2000x300 with 10 Axes>"
      ]
     },
     "metadata": {},
     "output_type": "display_data"
    },
    {
     "name": "stdout",
     "output_type": "stream",
     "text": [
      "469/469 [==============================] - 15s 33ms/step - loss: 0.3388\n",
      "Epoch 39/150\n",
      "466/469 [============================>.] - ETA: 0s - loss: 0.3386\n",
      "Saved to ./output/generated_img_038.png\n"
     ]
    },
    {
     "data": {
      "image/png": "[encoded data removed]",
      "text/plain": [
       "<Figure size 2000x300 with 10 Axes>"
      ]
     },
     "metadata": {},
     "output_type": "display_data"
    },
    {
     "name": "stdout",
     "output_type": "stream",
     "text": [
      "469/469 [==============================] - 15s 32ms/step - loss: 0.3387\n",
      "Epoch 40/150\n",
      "467/469 [============================>.] - ETA: 0s - loss: 0.3385\n",
      "Saved to ./output/generated_img_039.png\n"
     ]
    },
    {
     "data": {
      "image/png": "[encoded data removed]",
      "text/plain": [
       "<Figure size 2000x300 with 10 Axes>"
      ]
     },
     "metadata": {},
     "output_type": "display_data"
    },
    {
     "name": "stdout",
     "output_type": "stream",
     "text": [
      "469/469 [==============================] - 15s 32ms/step - loss: 0.3385\n",
      "Epoch 41/150\n",
      "466/469 [============================>.] - ETA: 0s - loss: 0.3379\n",
      "Saved to ./output/generated_img_040.png\n"
     ]
    },
    {
     "data": {
      "image/png": "[encoded data removed]",
      "text/plain": [
       "<Figure size 2000x300 with 10 Axes>"
      ]
     },
     "metadata": {},
     "output_type": "display_data"
    },
    {
     "name": "stdout",
     "output_type": "stream",
     "text": [
      "469/469 [==============================] - 15s 33ms/step - loss: 0.3379\n",
      "Epoch 42/150\n",
      "468/469 [============================>.] - ETA: 0s - loss: 0.3377\n",
      "Saved to ./output/generated_img_041.png\n"
     ]
    },
    {
     "data": {
      "image/png": "[encoded data removed]",
      "text/plain": [
       "<Figure size 2000x300 with 10 Axes>"
      ]
     },
     "metadata": {},
     "output_type": "display_data"
    },
    {
     "name": "stdout",
     "output_type": "stream",
     "text": [
      "469/469 [==============================] - 15s 32ms/step - loss: 0.3377\n",
      "Epoch 43/150\n",
      "468/469 [============================>.] - ETA: 0s - loss: 0.3373\n",
      "Saved to ./output/generated_img_042.png\n"
     ]
    },
    {
     "data": {
      "image/png": "[encoded data removed]",
      "text/plain": [
       "<Figure size 2000x300 with 10 Axes>"
      ]
     },
     "metadata": {},
     "output_type": "display_data"
    },
    {
     "name": "stdout",
     "output_type": "stream",
     "text": [
      "469/469 [==============================] - 15s 33ms/step - loss: 0.3373\n",
      "Epoch 44/150\n",
      "466/469 [============================>.] - ETA: 0s - loss: 0.3370\n",
      "Saved to ./output/generated_img_043.png\n"
     ]
    },
    {
     "data": {
      "image/png": "[encoded data removed]",
      "text/plain": [
       "<Figure size 2000x300 with 10 Axes>"
      ]
     },
     "metadata": {},
     "output_type": "display_data"
    },
    {
     "name": "stdout",
     "output_type": "stream",
     "text": [
      "469/469 [==============================] - 15s 33ms/step - loss: 0.3370\n",
      "Epoch 45/150\n",
      "467/469 [============================>.] - ETA: 0s - loss: 0.3366\n",
      "Saved to ./output/generated_img_044.png\n"
     ]
    },
    {
     "data": {
      "image/png": "[encoded data removed]",
      "text/plain": [
       "<Figure size 2000x300 with 10 Axes>"
      ]
     },
     "metadata": {},
     "output_type": "display_data"
    },
    {
     "name": "stdout",
     "output_type": "stream",
     "text": [
      "469/469 [==============================] - 15s 33ms/step - loss: 0.3366\n",
      "Epoch 46/150\n",
      "468/469 [============================>.] - ETA: 0s - loss: 0.3363\n",
      "Saved to ./output/generated_img_045.png\n"
     ]
    },
    {
     "data": {
      "image/png": "[encoded data removed]",
      "text/plain": [
       "<Figure size 2000x300 with 10 Axes>"
      ]
     },
     "metadata": {},
     "output_type": "display_data"
    },
    {
     "name": "stdout",
     "output_type": "stream",
     "text": [
      "469/469 [==============================] - 15s 33ms/step - loss: 0.3363\n",
      "Epoch 47/150\n",
      "467/469 [============================>.] - ETA: 0s - loss: 0.3360\n",
      "Saved to ./output/generated_img_046.png\n"
     ]
    },
    {
     "data": {
      "image/png": "[encoded data removed]",
      "text/plain": [
       "<Figure size 2000x300 with 10 Axes>"
      ]
     },
     "metadata": {},
     "output_type": "display_data"
    },
    {
     "name": "stdout",
     "output_type": "stream",
     "text": [
      "469/469 [==============================] - 15s 32ms/step - loss: 0.3361\n",
      "Epoch 48/150\n",
      "468/469 [============================>.] - ETA: 0s - loss: 0.3359\n",
      "Saved to ./output/generated_img_047.png\n"
     ]
    },
    {
     "data": {
      "image/png": "[encoded data removed]",
      "text/plain": [
       "<Figure size 2000x300 with 10 Axes>"
      ]
     },
     "metadata": {},
     "output_type": "display_data"
    },
    {
     "name": "stdout",
     "output_type": "stream",
     "text": [
      "469/469 [==============================] - 16s 33ms/step - loss: 0.3359\n",
      "Epoch 49/150\n",
      "468/469 [============================>.] - ETA: 0s - loss: 0.3356\n",
      "Saved to ./output/generated_img_048.png\n"
     ]
    },
    {
     "data": {
      "image/png": "[encoded data removed]",
      "text/plain": [
       "<Figure size 2000x300 with 10 Axes>"
      ]
     },
     "metadata": {},
     "output_type": "display_data"
    },
    {
     "name": "stdout",
     "output_type": "stream",
     "text": [
      "469/469 [==============================] - 15s 32ms/step - loss: 0.3356\n",
      "Epoch 50/150\n",
      "468/469 [============================>.] - ETA: 0s - loss: 0.3351\n",
      "Saved to ./output/generated_img_049.png\n"
     ]
    },
    {
     "data": {
      "image/png": "[encoded data removed]",
      "text/plain": [
       "<Figure size 2000x300 with 10 Axes>"
      ]
     },
     "metadata": {},
     "output_type": "display_data"
    },
    {
     "name": "stdout",
     "output_type": "stream",
     "text": [
      "469/469 [==============================] - 16s 33ms/step - loss: 0.3351\n",
      "Epoch 51/150\n",
      "466/469 [============================>.] - ETA: 0s - loss: 0.3351\n",
      "Saved to ./output/generated_img_050.png\n"
     ]
    },
    {
     "data": {
      "image/png": "[encoded data removed]",
      "text/plain": [
       "<Figure size 2000x300 with 10 Axes>"
      ]
     },
     "metadata": {},
     "output_type": "display_data"
    },
    {
     "name": "stdout",
     "output_type": "stream",
     "text": [
      "469/469 [==============================] - 15s 32ms/step - loss: 0.3351\n",
      "Epoch 52/150\n",
      "468/469 [============================>.] - ETA: 0s - loss: 0.3347\n",
      "Saved to ./output/generated_img_051.png\n"
     ]
    },
    {
     "data": {
      "image/png": "[encoded data removed]",
      "text/plain": [
       "<Figure size 2000x300 with 10 Axes>"
      ]
     },
     "metadata": {},
     "output_type": "display_data"
    },
    {
     "name": "stdout",
     "output_type": "stream",
     "text": [
      "469/469 [==============================] - 16s 33ms/step - loss: 0.3347\n",
      "Epoch 53/150\n",
      "467/469 [============================>.] - ETA: 0s - loss: 0.3346\n",
      "Saved to ./output/generated_img_052.png\n"
     ]
    },
    {
     "data": {
      "image/png": "[encoded data removed]",
      "text/plain": [
       "<Figure size 2000x300 with 10 Axes>"
      ]
     },
     "metadata": {},
     "output_type": "display_data"
    },
    {
     "name": "stdout",
     "output_type": "stream",
     "text": [
      "469/469 [==============================] - 15s 32ms/step - loss: 0.3346\n",
      "Epoch 54/150\n",
      "467/469 [============================>.] - ETA: 0s - loss: 0.3343\n",
      "Saved to ./output/generated_img_053.png\n"
     ]
    },
    {
     "data": {
      "image/png": "[encoded data removed]",
      "text/plain": [
       "<Figure size 2000x300 with 10 Axes>"
      ]
     },
     "metadata": {},
     "output_type": "display_data"
    },
    {
     "name": "stdout",
     "output_type": "stream",
     "text": [
      "469/469 [==============================] - 16s 33ms/step - loss: 0.3343\n",
      "Epoch 55/150\n",
      "467/469 [============================>.] - ETA: 0s - loss: 0.3340\n",
      "Saved to ./output/generated_img_054.png\n"
     ]
    },
    {
     "data": {
      "image/png": "[encoded data removed]",
      "text/plain": [
       "<Figure size 2000x300 with 10 Axes>"
      ]
     },
     "metadata": {},
     "output_type": "display_data"
    },
    {
     "name": "stdout",
     "output_type": "stream",
     "text": [
      "469/469 [==============================] - 15s 32ms/step - loss: 0.3340\n",
      "Epoch 56/150\n",
      "468/469 [============================>.] - ETA: 0s - loss: 0.3340\n",
      "Saved to ./output/generated_img_055.png\n"
     ]
    },
    {
     "data": {
      "image/png": "[encoded data removed]",
      "text/plain": [
       "<Figure size 2000x300 with 10 Axes>"
      ]
     },
     "metadata": {},
     "output_type": "display_data"
    },
    {
     "name": "stdout",
     "output_type": "stream",
     "text": [
      "469/469 [==============================] - 15s 33ms/step - loss: 0.3341\n",
      "Epoch 57/150\n",
      "466/469 [============================>.] - ETA: 0s - loss: 0.3335\n",
      "Saved to ./output/generated_img_056.png\n"
     ]
    },
    {
     "data": {
      "image/png": "[encoded data removed]",
      "text/plain": [
       "<Figure size 2000x300 with 10 Axes>"
      ]
     },
     "metadata": {},
     "output_type": "display_data"
    },
    {
     "name": "stdout",
     "output_type": "stream",
     "text": [
      "469/469 [==============================] - 15s 33ms/step - loss: 0.3335\n",
      "Epoch 58/150\n",
      "467/469 [============================>.] - ETA: 0s - loss: 0.3334\n",
      "Saved to ./output/generated_img_057.png\n"
     ]
    },
    {
     "data": {
      "image/png": "[encoded data removed]",
      "text/plain": [
       "<Figure size 2000x300 with 10 Axes>"
      ]
     },
     "metadata": {},
     "output_type": "display_data"
    },
    {
     "name": "stdout",
     "output_type": "stream",
     "text": [
      "469/469 [==============================] - 16s 33ms/step - loss: 0.3334\n",
      "Epoch 59/150\n",
      "468/469 [============================>.] - ETA: 0s - loss: 0.3333\n",
      "Saved to ./output/generated_img_058.png\n"
     ]
    },
    {
     "data": {
      "image/png": "[encoded data removed]",
      "text/plain": [
       "<Figure size 2000x300 with 10 Axes>"
      ]
     },
     "metadata": {},
     "output_type": "display_data"
    },
    {
     "name": "stdout",
     "output_type": "stream",
     "text": [
      "469/469 [==============================] - 15s 33ms/step - loss: 0.3333\n",
      "Epoch 60/150\n",
      "467/469 [============================>.] - ETA: 0s - loss: 0.3332\n",
      "Saved to ./output/generated_img_059.png\n"
     ]
    },
    {
     "data": {
      "image/png": "[encoded data removed]",
      "text/plain": [
       "<Figure size 2000x300 with 10 Axes>"
      ]
     },
     "metadata": {},
     "output_type": "display_data"
    },
    {
     "name": "stdout",
     "output_type": "stream",
     "text": [
      "469/469 [==============================] - 15s 32ms/step - loss: 0.3332\n",
      "Epoch 61/150\n",
      "466/469 [============================>.] - ETA: 0s - loss: 0.3326\n",
      "Saved to ./output/generated_img_060.png\n"
     ]
    },
    {
     "data": {
      "image/png": "[encoded data removed]",
      "text/plain": [
       "<Figure size 2000x300 with 10 Axes>"
      ]
     },
     "metadata": {},
     "output_type": "display_data"
    },
    {
     "name": "stdout",
     "output_type": "stream",
     "text": [
      "469/469 [==============================] - 16s 33ms/step - loss: 0.3327\n",
      "Epoch 62/150\n",
      "466/469 [============================>.] - ETA: 0s - loss: 0.3325\n",
      "Saved to ./output/generated_img_061.png\n"
     ]
    },
    {
     "data": {
      "image/png": "[encoded data removed]",
      "text/plain": [
       "<Figure size 2000x300 with 10 Axes>"
      ]
     },
     "metadata": {},
     "output_type": "display_data"
    },
    {
     "name": "stdout",
     "output_type": "stream",
     "text": [
      "469/469 [==============================] - 15s 32ms/step - loss: 0.3325\n",
      "Epoch 63/150\n",
      "467/469 [============================>.] - ETA: 0s - loss: 0.3324\n",
      "Saved to ./output/generated_img_062.png\n"
     ]
    },
    {
     "data": {
      "image/png": "[encoded data removed]",
      "text/plain": [
       "<Figure size 2000x300 with 10 Axes>"
      ]
     },
     "metadata": {},
     "output_type": "display_data"
    },
    {
     "name": "stdout",
     "output_type": "stream",
     "text": [
      "469/469 [==============================] - 16s 33ms/step - loss: 0.3324\n",
      "Epoch 64/150\n",
      "466/469 [============================>.] - ETA: 0s - loss: 0.3324\n",
      "Saved to ./output/generated_img_063.png\n"
     ]
    },
    {
     "data": {
      "image/png": "[encoded data removed]",
      "text/plain": [
       "<Figure size 2000x300 with 10 Axes>"
      ]
     },
     "metadata": {},
     "output_type": "display_data"
    },
    {
     "name": "stdout",
     "output_type": "stream",
     "text": [
      "469/469 [==============================] - 15s 32ms/step - loss: 0.3323\n",
      "Epoch 65/150\n",
      "466/469 [============================>.] - ETA: 0s - loss: 0.3322\n",
      "Saved to ./output/generated_img_064.png\n"
     ]
    },
    {
     "data": {
      "image/png": "[encoded data removed]",
      "text/plain": [
       "<Figure size 2000x300 with 10 Axes>"
      ]
     },
     "metadata": {},
     "output_type": "display_data"
    },
    {
     "name": "stdout",
     "output_type": "stream",
     "text": [
      "469/469 [==============================] - 15s 32ms/step - loss: 0.3321\n",
      "Epoch 66/150\n",
      "468/469 [============================>.] - ETA: 0s - loss: 0.3318\n",
      "Saved to ./output/generated_img_065.png\n"
     ]
    },
    {
     "data": {
      "image/png": "[encoded data removed]",
      "text/plain": [
       "<Figure size 2000x300 with 10 Axes>"
      ]
     },
     "metadata": {},
     "output_type": "display_data"
    },
    {
     "name": "stdout",
     "output_type": "stream",
     "text": [
      "469/469 [==============================] - 15s 33ms/step - loss: 0.3318\n",
      "Epoch 67/150\n",
      "467/469 [============================>.] - ETA: 0s - loss: 0.3316\n",
      "Saved to ./output/generated_img_066.png\n"
     ]
    },
    {
     "data": {
      "image/png": "[encoded data removed]",
      "text/plain": [
       "<Figure size 2000x300 with 10 Axes>"
      ]
     },
     "metadata": {},
     "output_type": "display_data"
    },
    {
     "name": "stdout",
     "output_type": "stream",
     "text": [
      "469/469 [==============================] - 15s 32ms/step - loss: 0.3317\n",
      "Epoch 68/150\n",
      "466/469 [============================>.] - ETA: 0s - loss: 0.3316\n",
      "Saved to ./output/generated_img_067.png\n"
     ]
    },
    {
     "data": {
      "image/png": "[encoded data removed]",
      "text/plain": [
       "<Figure size 2000x300 with 10 Axes>"
      ]
     },
     "metadata": {},
     "output_type": "display_data"
    },
    {
     "name": "stdout",
     "output_type": "stream",
     "text": [
      "469/469 [==============================] - 16s 33ms/step - loss: 0.3315\n",
      "Epoch 69/150\n",
      "468/469 [============================>.] - ETA: 0s - loss: 0.3314\n",
      "Saved to ./output/generated_img_068.png\n"
     ]
    },
    {
     "data": {
      "image/png": "[encoded data removed]",
      "text/plain": [
       "<Figure size 2000x300 with 10 Axes>"
      ]
     },
     "metadata": {},
     "output_type": "display_data"
    },
    {
     "name": "stdout",
     "output_type": "stream",
     "text": [
      "469/469 [==============================] - 15s 32ms/step - loss: 0.3314\n",
      "Epoch 70/150\n",
      "466/469 [============================>.] - ETA: 0s - loss: 0.3312\n",
      "Saved to ./output/generated_img_069.png\n"
     ]
    },
    {
     "data": {
      "image/png": "[encoded data removed]",
      "text/plain": [
       "<Figure size 2000x300 with 10 Axes>"
      ]
     },
     "metadata": {},
     "output_type": "display_data"
    },
    {
     "name": "stdout",
     "output_type": "stream",
     "text": [
      "469/469 [==============================] - 16s 33ms/step - loss: 0.3312\n",
      "Epoch 71/150\n",
      "468/469 [============================>.] - ETA: 0s - loss: 0.3310\n",
      "Saved to ./output/generated_img_070.png\n"
     ]
    },
    {
     "data": {
      "image/png": "[encoded data removed]",
      "text/plain": [
       "<Figure size 2000x300 with 10 Axes>"
      ]
     },
     "metadata": {},
     "output_type": "display_data"
    },
    {
     "name": "stdout",
     "output_type": "stream",
     "text": [
      "469/469 [==============================] - 15s 32ms/step - loss: 0.3310\n",
      "Epoch 72/150\n",
      "467/469 [============================>.] - ETA: 0s - loss: 0.3308\n",
      "Saved to ./output/generated_img_071.png\n"
     ]
    },
    {
     "data": {
      "image/png": "[encoded data removed]",
      "text/plain": [
       "<Figure size 2000x300 with 10 Axes>"
      ]
     },
     "metadata": {},
     "output_type": "display_data"
    },
    {
     "name": "stdout",
     "output_type": "stream",
     "text": [
      "469/469 [==============================] - 16s 33ms/step - loss: 0.3308\n",
      "Epoch 73/150\n",
      "468/469 [============================>.] - ETA: 0s - loss: 0.3308\n",
      "Saved to ./output/generated_img_072.png\n"
     ]
    },
    {
     "data": {
      "image/png": "[encoded data removed]",
      "text/plain": [
       "<Figure size 2000x300 with 10 Axes>"
      ]
     },
     "metadata": {},
     "output_type": "display_data"
    },
    {
     "name": "stdout",
     "output_type": "stream",
     "text": [
      "469/469 [==============================] - 15s 32ms/step - loss: 0.3308\n",
      "Epoch 74/150\n",
      "468/469 [============================>.] - ETA: 0s - loss: 0.3304\n",
      "Saved to ./output/generated_img_073.png\n"
     ]
    },
    {
     "data": {
      "image/png": "[encoded data removed]",
      "text/plain": [
       "<Figure size 2000x300 with 10 Axes>"
      ]
     },
     "metadata": {},
     "output_type": "display_data"
    },
    {
     "name": "stdout",
     "output_type": "stream",
     "text": [
      "469/469 [==============================] - 15s 32ms/step - loss: 0.3304\n",
      "Epoch 75/150\n",
      "468/469 [============================>.] - ETA: 0s - loss: 0.3304\n",
      "Saved to ./output/generated_img_074.png\n"
     ]
    },
    {
     "data": {
      "image/png": "[encoded data removed]",
      "text/plain": [
       "<Figure size 2000x300 with 10 Axes>"
      ]
     },
     "metadata": {},
     "output_type": "display_data"
    },
    {
     "name": "stdout",
     "output_type": "stream",
     "text": [
      "469/469 [==============================] - 15s 33ms/step - loss: 0.3304\n",
      "Epoch 76/150\n",
      "469/469 [==============================] - ETA: 0s - loss: 0.3301\n",
      "Saved to ./output/generated_img_075.png\n"
     ]
    },
    {
     "data": {
      "image/png": "[encoded data removed]",
      "text/plain": [
       "<Figure size 2000x300 with 10 Axes>"
      ]
     },
     "metadata": {},
     "output_type": "display_data"
    },
    {
     "name": "stdout",
     "output_type": "stream",
     "text": [
      "469/469 [==============================] - 15s 32ms/step - loss: 0.3301\n",
      "Epoch 77/150\n",
      "466/469 [============================>.] - ETA: 0s - loss: 0.3303\n",
      "Saved to ./output/generated_img_076.png\n"
     ]
    },
    {
     "data": {
      "image/png": "[encoded data removed]",
      "text/plain": [
       "<Figure size 2000x300 with 10 Axes>"
      ]
     },
     "metadata": {},
     "output_type": "display_data"
    },
    {
     "name": "stdout",
     "output_type": "stream",
     "text": [
      "469/469 [==============================] - 15s 32ms/step - loss: 0.3302\n",
      "Epoch 78/150\n",
      "468/469 [============================>.] - ETA: 0s - loss: 0.3299\n",
      "Saved to ./output/generated_img_077.png\n"
     ]
    },
    {
     "data": {
      "image/png": "[encoded data removed]",
      "text/plain": [
       "<Figure size 2000x300 with 10 Axes>"
      ]
     },
     "metadata": {},
     "output_type": "display_data"
    },
    {
     "name": "stdout",
     "output_type": "stream",
     "text": [
      "469/469 [==============================] - 15s 32ms/step - loss: 0.3299\n",
      "Epoch 79/150\n",
      "468/469 [============================>.] - ETA: 0s - loss: 0.3296\n",
      "Saved to ./output/generated_img_078.png\n"
     ]
    },
    {
     "data": {
      "image/png": "[encoded data removed]",
      "text/plain": [
       "<Figure size 2000x300 with 10 Axes>"
      ]
     },
     "metadata": {},
     "output_type": "display_data"
    },
    {
     "name": "stdout",
     "output_type": "stream",
     "text": [
      "469/469 [==============================] - 15s 33ms/step - loss: 0.3296\n",
      "Epoch 80/150\n",
      "467/469 [============================>.] - ETA: 0s - loss: 0.3297\n",
      "Saved to ./output/generated_img_079.png\n"
     ]
    },
    {
     "data": {
      "image/png": "[encoded data removed]",
      "text/plain": [
       "<Figure size 2000x300 with 10 Axes>"
      ]
     },
     "metadata": {},
     "output_type": "display_data"
    },
    {
     "name": "stdout",
     "output_type": "stream",
     "text": [
      "469/469 [==============================] - 15s 32ms/step - loss: 0.3297\n",
      "Epoch 81/150\n",
      "468/469 [============================>.] - ETA: 0s - loss: 0.3295\n",
      "Saved to ./output/generated_img_080.png\n"
     ]
    },
    {
     "data": {
      "image/png": "[encoded data removed]",
      "text/plain": [
       "<Figure size 2000x300 with 10 Axes>"
      ]
     },
     "metadata": {},
     "output_type": "display_data"
    },
    {
     "name": "stdout",
     "output_type": "stream",
     "text": [
      "469/469 [==============================] - 15s 33ms/step - loss: 0.3295\n",
      "Epoch 82/150\n",
      "467/469 [============================>.] - ETA: 0s - loss: 0.3292\n",
      "Saved to ./output/generated_img_081.png\n"
     ]
    },
    {
     "data": {
      "image/png": "[encoded data removed]",
      "text/plain": [
       "<Figure size 2000x300 with 10 Axes>"
      ]
     },
     "metadata": {},
     "output_type": "display_data"
    },
    {
     "name": "stdout",
     "output_type": "stream",
     "text": [
      "469/469 [==============================] - 15s 32ms/step - loss: 0.3292\n",
      "Epoch 83/150\n",
      "469/469 [==============================] - ETA: 0s - loss: 0.3293\n",
      "Saved to ./output/generated_img_082.png\n"
     ]
    },
    {
     "data": {
      "image/png": "[encoded data removed]",
      "text/plain": [
       "<Figure size 2000x300 with 10 Axes>"
      ]
     },
     "metadata": {},
     "output_type": "display_data"
    },
    {
     "name": "stdout",
     "output_type": "stream",
     "text": [
      "469/469 [==============================] - 15s 33ms/step - loss: 0.3293\n",
      "Epoch 84/150\n",
      "468/469 [============================>.] - ETA: 0s - loss: 0.3290\n",
      "Saved to ./output/generated_img_083.png\n"
     ]
    },
    {
     "data": {
      "image/png": "[encoded data removed]",
      "text/plain": [
       "<Figure size 2000x300 with 10 Axes>"
      ]
     },
     "metadata": {},
     "output_type": "display_data"
    },
    {
     "name": "stdout",
     "output_type": "stream",
     "text": [
      "469/469 [==============================] - 15s 32ms/step - loss: 0.3290\n",
      "Epoch 85/150\n",
      "468/469 [============================>.] - ETA: 0s - loss: 0.3291\n",
      "Saved to ./output/generated_img_084.png\n"
     ]
    },
    {
     "data": {
      "image/png": "[encoded data removed]",
      "text/plain": [
       "<Figure size 2000x300 with 10 Axes>"
      ]
     },
     "metadata": {},
     "output_type": "display_data"
    },
    {
     "name": "stdout",
     "output_type": "stream",
     "text": [
      "469/469 [==============================] - 15s 32ms/step - loss: 0.3291\n",
      "Epoch 86/150\n",
      "468/469 [============================>.] - ETA: 0s - loss: 0.3288\n",
      "Saved to ./output/generated_img_085.png\n"
     ]
    },
    {
     "data": {
      "image/png": "[encoded data removed]",
      "text/plain": [
       "<Figure size 2000x300 with 10 Axes>"
      ]
     },
     "metadata": {},
     "output_type": "display_data"
    },
    {
     "name": "stdout",
     "output_type": "stream",
     "text": [
      "469/469 [==============================] - 15s 32ms/step - loss: 0.3288\n",
      "Epoch 87/150\n",
      "466/469 [============================>.] - ETA: 0s - loss: 0.3287\n",
      "Saved to ./output/generated_img_086.png\n"
     ]
    },
    {
     "data": {
      "image/png": "[encoded data removed]",
      "text/plain": [
       "<Figure size 2000x300 with 10 Axes>"
      ]
     },
     "metadata": {},
     "output_type": "display_data"
    },
    {
     "name": "stdout",
     "output_type": "stream",
     "text": [
      "469/469 [==============================] - 15s 32ms/step - loss: 0.3287\n",
      "Epoch 88/150\n",
      "467/469 [============================>.] - ETA: 0s - loss: 0.3286\n",
      "Saved to ./output/generated_img_087.png\n"
     ]
    },
    {
     "data": {
      "image/png": "[encoded data removed]",
      "text/plain": [
       "<Figure size 2000x300 with 10 Axes>"
      ]
     },
     "metadata": {},
     "output_type": "display_data"
    },
    {
     "name": "stdout",
     "output_type": "stream",
     "text": [
      "469/469 [==============================] - 15s 32ms/step - loss: 0.3286\n",
      "Epoch 89/150\n",
      "466/469 [============================>.] - ETA: 0s - loss: 0.3286\n",
      "Saved to ./output/generated_img_088.png\n"
     ]
    },
    {
     "data": {
      "image/png": "[encoded data removed]",
      "text/plain": [
       "<Figure size 2000x300 with 10 Axes>"
      ]
     },
     "metadata": {},
     "output_type": "display_data"
    },
    {
     "name": "stdout",
     "output_type": "stream",
     "text": [
      "469/469 [==============================] - 15s 32ms/step - loss: 0.3286\n",
      "Epoch 90/150\n",
      "468/469 [============================>.] - ETA: 0s - loss: 0.3283\n",
      "Saved to ./output/generated_img_089.png\n"
     ]
    },
    {
     "data": {
      "image/png": "[encoded data removed]",
      "text/plain": [
       "<Figure size 2000x300 with 10 Axes>"
      ]
     },
     "metadata": {},
     "output_type": "display_data"
    },
    {
     "name": "stdout",
     "output_type": "stream",
     "text": [
      "469/469 [==============================] - 15s 33ms/step - loss: 0.3283\n",
      "Epoch 91/150\n",
      "468/469 [============================>.] - ETA: 0s - loss: 0.3281\n",
      "Saved to ./output/generated_img_090.png\n"
     ]
    },
    {
     "data": {
      "image/png": "[encoded data removed]",
      "text/plain": [
       "<Figure size 2000x300 with 10 Axes>"
      ]
     },
     "metadata": {},
     "output_type": "display_data"
    },
    {
     "name": "stdout",
     "output_type": "stream",
     "text": [
      "469/469 [==============================] - 15s 32ms/step - loss: 0.3281\n",
      "Epoch 92/150\n",
      "468/469 [============================>.] - ETA: 0s - loss: 0.3279\n",
      "Saved to ./output/generated_img_091.png\n"
     ]
    },
    {
     "data": {
      "image/png": "[encoded data removed]",
      "text/plain": [
       "<Figure size 2000x300 with 10 Axes>"
      ]
     },
     "metadata": {},
     "output_type": "display_data"
    },
    {
     "name": "stdout",
     "output_type": "stream",
     "text": [
      "469/469 [==============================] - 15s 32ms/step - loss: 0.3280\n",
      "Epoch 93/150\n",
      "466/469 [============================>.] - ETA: 0s - loss: 0.3279\n",
      "Saved to ./output/generated_img_092.png\n"
     ]
    },
    {
     "data": {
      "image/png": "[encoded data removed]",
      "text/plain": [
       "<Figure size 2000x300 with 10 Axes>"
      ]
     },
     "metadata": {},
     "output_type": "display_data"
    },
    {
     "name": "stdout",
     "output_type": "stream",
     "text": [
      "469/469 [==============================] - 15s 32ms/step - loss: 0.3280\n",
      "Epoch 94/150\n",
      "467/469 [============================>.] - ETA: 0s - loss: 0.3278\n",
      "Saved to ./output/generated_img_093.png\n"
     ]
    },
    {
     "data": {
      "image/png": "[encoded data removed]",
      "text/plain": [
       "<Figure size 2000x300 with 10 Axes>"
      ]
     },
     "metadata": {},
     "output_type": "display_data"
    },
    {
     "name": "stdout",
     "output_type": "stream",
     "text": [
      "469/469 [==============================] - 15s 32ms/step - loss: 0.3278\n",
      "Epoch 95/150\n",
      "469/469 [==============================] - ETA: 0s - loss: 0.3278\n",
      "Saved to ./output/generated_img_094.png\n"
     ]
    },
    {
     "data": {
      "image/png": "[encoded data removed]",
      "text/plain": [
       "<Figure size 2000x300 with 10 Axes>"
      ]
     },
     "metadata": {},
     "output_type": "display_data"
    },
    {
     "name": "stdout",
     "output_type": "stream",
     "text": [
      "469/469 [==============================] - 15s 32ms/step - loss: 0.3278\n",
      "Epoch 96/150\n",
      "466/469 [============================>.] - ETA: 0s - loss: 0.3276\n",
      "Saved to ./output/generated_img_095.png\n"
     ]
    },
    {
     "data": {
      "image/png": "[encoded data removed]",
      "text/plain": [
       "<Figure size 2000x300 with 10 Axes>"
      ]
     },
     "metadata": {},
     "output_type": "display_data"
    },
    {
     "name": "stdout",
     "output_type": "stream",
     "text": [
      "469/469 [==============================] - 15s 32ms/step - loss: 0.3276\n",
      "Epoch 97/150\n",
      "467/469 [============================>.] - ETA: 0s - loss: 0.3275\n",
      "Saved to ./output/generated_img_096.png\n"
     ]
    },
    {
     "data": {
      "image/png": "[encoded data removed]",
      "text/plain": [
       "<Figure size 2000x300 with 10 Axes>"
      ]
     },
     "metadata": {},
     "output_type": "display_data"
    },
    {
     "name": "stdout",
     "output_type": "stream",
     "text": [
      "469/469 [==============================] - 15s 32ms/step - loss: 0.3274\n",
      "Epoch 98/150\n",
      "467/469 [============================>.] - ETA: 0s - loss: 0.3273\n",
      "Saved to ./output/generated_img_097.png\n"
     ]
    },
    {
     "data": {
      "image/png": "[encoded data removed]",
      "text/plain": [
       "<Figure size 2000x300 with 10 Axes>"
      ]
     },
     "metadata": {},
     "output_type": "display_data"
    },
    {
     "name": "stdout",
     "output_type": "stream",
     "text": [
      "469/469 [==============================] - 15s 31ms/step - loss: 0.3273\n",
      "Epoch 99/150\n",
      "468/469 [============================>.] - ETA: 0s - loss: 0.3273\n",
      "Saved to ./output/generated_img_098.png\n"
     ]
    },
    {
     "data": {
      "image/png": "[encoded data removed]",
      "text/plain": [
       "<Figure size 2000x300 with 10 Axes>"
      ]
     },
     "metadata": {},
     "output_type": "display_data"
    },
    {
     "name": "stdout",
     "output_type": "stream",
     "text": [
      "469/469 [==============================] - 15s 33ms/step - loss: 0.3273\n",
      "Epoch 100/150\n",
      "469/469 [==============================] - ETA: 0s - loss: 0.3272\n",
      "Saved to ./output/generated_img_099.png\n"
     ]
    },
    {
     "data": {
      "image/png": "[encoded data removed]",
      "text/plain": [
       "<Figure size 2000x300 with 10 Axes>"
      ]
     },
     "metadata": {},
     "output_type": "display_data"
    },
    {
     "name": "stdout",
     "output_type": "stream",
     "text": [
      "469/469 [==============================] - 15s 31ms/step - loss: 0.3272\n",
      "Epoch 101/150\n",
      "468/469 [============================>.] - ETA: 0s - loss: 0.3271\n",
      "Saved to ./output/generated_img_100.png\n"
     ]
    },
    {
     "data": {
      "image/png": "[encoded data removed]",
      "text/plain": [
       "<Figure size 2000x300 with 10 Axes>"
      ]
     },
     "metadata": {},
     "output_type": "display_data"
    },
    {
     "name": "stdout",
     "output_type": "stream",
     "text": [
      "469/469 [==============================] - 15s 32ms/step - loss: 0.3271\n",
      "Epoch 102/150\n",
      "467/469 [============================>.] - ETA: 0s - loss: 0.3269\n",
      "Saved to ./output/generated_img_101.png\n"
     ]
    },
    {
     "data": {
      "image/png": "[encoded data removed]",
      "text/plain": [
       "<Figure size 2000x300 with 10 Axes>"
      ]
     },
     "metadata": {},
     "output_type": "display_data"
    },
    {
     "name": "stdout",
     "output_type": "stream",
     "text": [
      "469/469 [==============================] - 15s 31ms/step - loss: 0.3269\n",
      "Epoch 103/150\n",
      "468/469 [============================>.] - ETA: 0s - loss: 0.3267\n",
      "Saved to ./output/generated_img_102.png\n"
     ]
    },
    {
     "data": {
      "image/png": "[encoded data removed]",
      "text/plain": [
       "<Figure size 2000x300 with 10 Axes>"
      ]
     },
     "metadata": {},
     "output_type": "display_data"
    },
    {
     "name": "stdout",
     "output_type": "stream",
     "text": [
      "469/469 [==============================] - 15s 33ms/step - loss: 0.3267\n",
      "Epoch 104/150\n",
      "468/469 [============================>.] - ETA: 0s - loss: 0.3268\n",
      "Saved to ./output/generated_img_103.png\n"
     ]
    },
    {
     "data": {
      "image/png": "[encoded data removed]",
      "text/plain": [
       "<Figure size 2000x300 with 10 Axes>"
      ]
     },
     "metadata": {},
     "output_type": "display_data"
    },
    {
     "name": "stdout",
     "output_type": "stream",
     "text": [
      "469/469 [==============================] - 15s 31ms/step - loss: 0.3269\n",
      "Epoch 105/150\n",
      "469/469 [==============================] - ETA: 0s - loss: 0.3267\n",
      "Saved to ./output/generated_img_104.png\n"
     ]
    },
    {
     "data": {
      "image/png": "[encoded data removed]",
      "text/plain": [
       "<Figure size 2000x300 with 10 Axes>"
      ]
     },
     "metadata": {},
     "output_type": "display_data"
    },
    {
     "name": "stdout",
     "output_type": "stream",
     "text": [
      "469/469 [==============================] - 15s 32ms/step - loss: 0.3267\n",
      "Epoch 106/150\n",
      "467/469 [============================>.] - ETA: 0s - loss: 0.3265\n",
      "Saved to ./output/generated_img_105.png\n"
     ]
    },
    {
     "data": {
      "image/png": "[encoded data removed]",
      "text/plain": [
       "<Figure size 2000x300 with 10 Axes>"
      ]
     },
     "metadata": {},
     "output_type": "display_data"
    },
    {
     "name": "stdout",
     "output_type": "stream",
     "text": [
      "469/469 [==============================] - 15s 32ms/step - loss: 0.3265\n",
      "Epoch 107/150\n",
      "467/469 [============================>.] - ETA: 0s - loss: 0.3262\n",
      "Saved to ./output/generated_img_106.png\n"
     ]
    },
    {
     "data": {
      "image/png": "[encoded data removed]",
      "text/plain": [
       "<Figure size 2000x300 with 10 Axes>"
      ]
     },
     "metadata": {},
     "output_type": "display_data"
    },
    {
     "name": "stdout",
     "output_type": "stream",
     "text": [
      "469/469 [==============================] - 15s 32ms/step - loss: 0.3263\n",
      "Epoch 108/150\n",
      "468/469 [============================>.] - ETA: 0s - loss: 0.3264\n",
      "Saved to ./output/generated_img_107.png\n"
     ]
    },
    {
     "data": {
      "image/png": "[encoded data removed]",
      "text/plain": [
       "<Figure size 2000x300 with 10 Axes>"
      ]
     },
     "metadata": {},
     "output_type": "display_data"
    },
    {
     "name": "stdout",
     "output_type": "stream",
     "text": [
      "469/469 [==============================] - 15s 32ms/step - loss: 0.3264\n",
      "Epoch 109/150\n",
      "466/469 [============================>.] - ETA: 0s - loss: 0.3263\n",
      "Saved to ./output/generated_img_108.png\n"
     ]
    },
    {
     "data": {
      "image/png": "[encoded data removed]",
      "text/plain": [
       "<Figure size 2000x300 with 10 Axes>"
      ]
     },
     "metadata": {},
     "output_type": "display_data"
    },
    {
     "name": "stdout",
     "output_type": "stream",
     "text": [
      "469/469 [==============================] - 15s 31ms/step - loss: 0.3263\n",
      "Epoch 110/150\n",
      "469/469 [==============================] - ETA: 0s - loss: 0.3262\n",
      "Saved to ./output/generated_img_109.png\n"
     ]
    },
    {
     "data": {
      "image/png": "[encoded data removed]",
      "text/plain": [
       "<Figure size 2000x300 with 10 Axes>"
      ]
     },
     "metadata": {},
     "output_type": "display_data"
    },
    {
     "name": "stdout",
     "output_type": "stream",
     "text": [
      "469/469 [==============================] - 15s 32ms/step - loss: 0.3262\n",
      "Epoch 111/150\n",
      "466/469 [============================>.] - ETA: 0s - loss: 0.3259\n",
      "Saved to ./output/generated_img_110.png\n"
     ]
    },
    {
     "data": {
      "image/png": "[encoded data removed]",
      "text/plain": [
       "<Figure size 2000x300 with 10 Axes>"
      ]
     },
     "metadata": {},
     "output_type": "display_data"
    },
    {
     "name": "stdout",
     "output_type": "stream",
     "text": [
      "469/469 [==============================] - 15s 32ms/step - loss: 0.3259\n",
      "Epoch 112/150\n",
      "467/469 [============================>.] - ETA: 0s - loss: 0.3260\n",
      "Saved to ./output/generated_img_111.png\n"
     ]
    },
    {
     "data": {
      "image/png": "[encoded data removed]",
      "text/plain": [
       "<Figure size 2000x300 with 10 Axes>"
      ]
     },
     "metadata": {},
     "output_type": "display_data"
    },
    {
     "name": "stdout",
     "output_type": "stream",
     "text": [
      "469/469 [==============================] - 15s 32ms/step - loss: 0.3260\n",
      "Epoch 113/150\n",
      "466/469 [============================>.] - ETA: 0s - loss: 0.3258\n",
      "Saved to ./output/generated_img_112.png\n"
     ]
    },
    {
     "data": {
      "image/png": "[encoded data removed]",
      "text/plain": [
       "<Figure size 2000x300 with 10 Axes>"
      ]
     },
     "metadata": {},
     "output_type": "display_data"
    },
    {
     "name": "stdout",
     "output_type": "stream",
     "text": [
      "469/469 [==============================] - 15s 31ms/step - loss: 0.3258\n",
      "Epoch 114/150\n",
      "468/469 [============================>.] - ETA: 0s - loss: 0.3259\n",
      "Saved to ./output/generated_img_113.png\n"
     ]
    },
    {
     "data": {
      "image/png": "[encoded data removed]",
      "text/plain": [
       "<Figure size 2000x300 with 10 Axes>"
      ]
     },
     "metadata": {},
     "output_type": "display_data"
    },
    {
     "name": "stdout",
     "output_type": "stream",
     "text": [
      "469/469 [==============================] - 15s 32ms/step - loss: 0.3259\n",
      "Epoch 115/150\n",
      "467/469 [============================>.] - ETA: 0s - loss: 0.3256\n",
      "Saved to ./output/generated_img_114.png\n"
     ]
    },
    {
     "data": {
      "image/png": "[encoded data removed]",
      "text/plain": [
       "<Figure size 2000x300 with 10 Axes>"
      ]
     },
     "metadata": {},
     "output_type": "display_data"
    },
    {
     "name": "stdout",
     "output_type": "stream",
     "text": [
      "469/469 [==============================] - 15s 32ms/step - loss: 0.3256\n",
      "Epoch 116/150\n",
      "466/469 [============================>.] - ETA: 0s - loss: 0.3255\n",
      "Saved to ./output/generated_img_115.png\n"
     ]
    },
    {
     "data": {
      "image/png": "[encoded data removed]",
      "text/plain": [
       "<Figure size 2000x300 with 10 Axes>"
      ]
     },
     "metadata": {},
     "output_type": "display_data"
    },
    {
     "name": "stdout",
     "output_type": "stream",
     "text": [
      "469/469 [==============================] - 15s 32ms/step - loss: 0.3255\n",
      "Epoch 117/150\n",
      "469/469 [==============================] - ETA: 0s - loss: 0.3254\n",
      "Saved to ./output/generated_img_116.png\n"
     ]
    },
    {
     "data": {
      "image/png": "[encoded data removed]",
      "text/plain": [
       "<Figure size 2000x300 with 10 Axes>"
      ]
     },
     "metadata": {},
     "output_type": "display_data"
    },
    {
     "name": "stdout",
     "output_type": "stream",
     "text": [
      "469/469 [==============================] - 15s 32ms/step - loss: 0.3254\n",
      "Epoch 118/150\n",
      "468/469 [============================>.] - ETA: 0s - loss: 0.3254\n",
      "Saved to ./output/generated_img_117.png\n"
     ]
    },
    {
     "data": {
      "image/png": "[encoded data removed]",
      "text/plain": [
       "<Figure size 2000x300 with 10 Axes>"
      ]
     },
     "metadata": {},
     "output_type": "display_data"
    },
    {
     "name": "stdout",
     "output_type": "stream",
     "text": [
      "469/469 [==============================] - 15s 31ms/step - loss: 0.3254\n",
      "Epoch 119/150\n",
      "467/469 [============================>.] - ETA: 0s - loss: 0.3253\n",
      "Saved to ./output/generated_img_118.png\n"
     ]
    },
    {
     "data": {
      "image/png": "[encoded data removed]",
      "text/plain": [
       "<Figure size 2000x300 with 10 Axes>"
      ]
     },
     "metadata": {},
     "output_type": "display_data"
    },
    {
     "name": "stdout",
     "output_type": "stream",
     "text": [
      "469/469 [==============================] - 15s 32ms/step - loss: 0.3254\n",
      "Epoch 120/150\n",
      "469/469 [==============================] - ETA: 0s - loss: 0.3253\n",
      "Saved to ./output/generated_img_119.png\n"
     ]
    },
    {
     "data": {
      "image/png": "[encoded data removed]",
      "text/plain": [
       "<Figure size 2000x300 with 10 Axes>"
      ]
     },
     "metadata": {},
     "output_type": "display_data"
    },
    {
     "name": "stdout",
     "output_type": "stream",
     "text": [
      "469/469 [==============================] - 15s 31ms/step - loss: 0.3253\n",
      "Epoch 121/150\n",
      "467/469 [============================>.] - ETA: 0s - loss: 0.3252\n",
      "Saved to ./output/generated_img_120.png\n"
     ]
    },
    {
     "data": {
      "image/png": "[encoded data removed]",
      "text/plain": [
       "<Figure size 2000x300 with 10 Axes>"
      ]
     },
     "metadata": {},
     "output_type": "display_data"
    },
    {
     "name": "stdout",
     "output_type": "stream",
     "text": [
      "469/469 [==============================] - 15s 32ms/step - loss: 0.3252\n",
      "Epoch 122/150\n",
      "468/469 [============================>.] - ETA: 0s - loss: 0.3250\n",
      "Saved to ./output/generated_img_121.png\n"
     ]
    },
    {
     "data": {
      "image/png": "[encoded data removed]",
      "text/plain": [
       "<Figure size 2000x300 with 10 Axes>"
      ]
     },
     "metadata": {},
     "output_type": "display_data"
    },
    {
     "name": "stdout",
     "output_type": "stream",
     "text": [
      "469/469 [==============================] - 15s 31ms/step - loss: 0.3250\n",
      "Epoch 123/150\n",
      "468/469 [============================>.] - ETA: 0s - loss: 0.3248\n",
      "Saved to ./output/generated_img_122.png\n"
     ]
    },
    {
     "data": {
      "image/png": "[encoded data removed]",
      "text/plain": [
       "<Figure size 2000x300 with 10 Axes>"
      ]
     },
     "metadata": {},
     "output_type": "display_data"
    },
    {
     "name": "stdout",
     "output_type": "stream",
     "text": [
      "469/469 [==============================] - 15s 32ms/step - loss: 0.3249\n",
      "Epoch 124/150\n",
      "468/469 [============================>.] - ETA: 0s - loss: 0.3250\n",
      "Saved to ./output/generated_img_123.png\n"
     ]
    },
    {
     "data": {
      "image/png": "[encoded data removed]",
      "text/plain": [
       "<Figure size 2000x300 with 10 Axes>"
      ]
     },
     "metadata": {},
     "output_type": "display_data"
    },
    {
     "name": "stdout",
     "output_type": "stream",
     "text": [
      "469/469 [==============================] - 15s 32ms/step - loss: 0.3250\n",
      "Epoch 125/150\n",
      "468/469 [============================>.] - ETA: 0s - loss: 0.3249\n",
      "Saved to ./output/generated_img_124.png\n"
     ]
    },
    {
     "data": {
      "image/png": "[encoded data removed]",
      "text/plain": [
       "<Figure size 2000x300 with 10 Axes>"
      ]
     },
     "metadata": {},
     "output_type": "display_data"
    },
    {
     "name": "stdout",
     "output_type": "stream",
     "text": [
      "469/469 [==============================] - 15s 31ms/step - loss: 0.3249\n",
      "Epoch 126/150\n",
      "468/469 [============================>.] - ETA: 0s - loss: 0.3247\n",
      "Saved to ./output/generated_img_125.png\n"
     ]
    },
    {
     "data": {
      "image/png": "[encoded data removed]",
      "text/plain": [
       "<Figure size 2000x300 with 10 Axes>"
      ]
     },
     "metadata": {},
     "output_type": "display_data"
    },
    {
     "name": "stdout",
     "output_type": "stream",
     "text": [
      "469/469 [==============================] - 15s 32ms/step - loss: 0.3247\n",
      "Epoch 127/150\n",
      "466/469 [============================>.] - ETA: 0s - loss: 0.3247\n",
      "Saved to ./output/generated_img_126.png\n"
     ]
    },
    {
     "data": {
      "image/png": "[encoded data removed]",
      "text/plain": [
       "<Figure size 2000x300 with 10 Axes>"
      ]
     },
     "metadata": {},
     "output_type": "display_data"
    },
    {
     "name": "stdout",
     "output_type": "stream",
     "text": [
      "469/469 [==============================] - 15s 31ms/step - loss: 0.3247\n",
      "Epoch 128/150\n",
      "467/469 [============================>.] - ETA: 0s - loss: 0.3246\n",
      "Saved to ./output/generated_img_127.png\n"
     ]
    },
    {
     "data": {
      "image/png": "[encoded data removed]",
      "text/plain": [
       "<Figure size 2000x300 with 10 Axes>"
      ]
     },
     "metadata": {},
     "output_type": "display_data"
    },
    {
     "name": "stdout",
     "output_type": "stream",
     "text": [
      "469/469 [==============================] - 15s 32ms/step - loss: 0.3246\n",
      "Epoch 129/150\n",
      "466/469 [============================>.] - ETA: 0s - loss: 0.3247\n",
      "Saved to ./output/generated_img_128.png\n"
     ]
    },
    {
     "data": {
      "image/png": "[encoded data removed]",
      "text/plain": [
       "<Figure size 2000x300 with 10 Axes>"
      ]
     },
     "metadata": {},
     "output_type": "display_data"
    },
    {
     "name": "stdout",
     "output_type": "stream",
     "text": [
      "469/469 [==============================] - 15s 31ms/step - loss: 0.3247\n",
      "Epoch 130/150\n",
      "467/469 [============================>.] - ETA: 0s - loss: 0.3245\n",
      "Saved to ./output/generated_img_129.png\n"
     ]
    },
    {
     "data": {
      "image/png": "[encoded data removed]",
      "text/plain": [
       "<Figure size 2000x300 with 10 Axes>"
      ]
     },
     "metadata": {},
     "output_type": "display_data"
    },
    {
     "name": "stdout",
     "output_type": "stream",
     "text": [
      "469/469 [==============================] - 15s 32ms/step - loss: 0.3245\n",
      "Epoch 131/150\n",
      "467/469 [============================>.] - ETA: 0s - loss: 0.3244\n",
      "Saved to ./output/generated_img_130.png\n"
     ]
    },
    {
     "data": {
      "image/png": "[encoded data removed]",
      "text/plain": [
       "<Figure size 2000x300 with 10 Axes>"
      ]
     },
     "metadata": {},
     "output_type": "display_data"
    },
    {
     "name": "stdout",
     "output_type": "stream",
     "text": [
      "469/469 [==============================] - 15s 31ms/step - loss: 0.3244\n",
      "Epoch 132/150\n",
      "467/469 [============================>.] - ETA: 0s - loss: 0.3243\n",
      "Saved to ./output/generated_img_131.png\n"
     ]
    },
    {
     "data": {
      "image/png": "[encoded data removed]",
      "text/plain": [
       "<Figure size 2000x300 with 10 Axes>"
      ]
     },
     "metadata": {},
     "output_type": "display_data"
    },
    {
     "name": "stdout",
     "output_type": "stream",
     "text": [
      "469/469 [==============================] - 15s 32ms/step - loss: 0.3243\n",
      "Epoch 133/150\n",
      "469/469 [==============================] - ETA: 0s - loss: 0.3242\n",
      "Saved to ./output/generated_img_132.png\n"
     ]
    },
    {
     "data": {
      "image/png": "[encoded data removed]",
      "text/plain": [
       "<Figure size 2000x300 with 10 Axes>"
      ]
     },
     "metadata": {},
     "output_type": "display_data"
    },
    {
     "name": "stdout",
     "output_type": "stream",
     "text": [
      "469/469 [==============================] - 15s 32ms/step - loss: 0.3242\n",
      "Epoch 134/150\n",
      "468/469 [============================>.] - ETA: 0s - loss: 0.3241\n",
      "Saved to ./output/generated_img_133.png\n"
     ]
    },
    {
     "data": {
      "image/png": "[encoded data removed]",
      "text/plain": [
       "<Figure size 2000x300 with 10 Axes>"
      ]
     },
     "metadata": {},
     "output_type": "display_data"
    },
    {
     "name": "stdout",
     "output_type": "stream",
     "text": [
      "469/469 [==============================] - 15s 32ms/step - loss: 0.3241\n",
      "Epoch 135/150\n",
      "466/469 [============================>.] - ETA: 0s - loss: 0.3241\n",
      "Saved to ./output/generated_img_134.png\n"
     ]
    },
    {
     "data": {
      "image/png": "[encoded data removed]",
      "text/plain": [
       "<Figure size 2000x300 with 10 Axes>"
      ]
     },
     "metadata": {},
     "output_type": "display_data"
    },
    {
     "name": "stdout",
     "output_type": "stream",
     "text": [
      "469/469 [==============================] - 15s 32ms/step - loss: 0.3240\n",
      "Epoch 136/150\n",
      "467/469 [============================>.] - ETA: 0s - loss: 0.3241\n",
      "Saved to ./output/generated_img_135.png\n"
     ]
    },
    {
     "data": {
      "image/png": "[encoded data removed]",
      "text/plain": [
       "<Figure size 2000x300 with 10 Axes>"
      ]
     },
     "metadata": {},
     "output_type": "display_data"
    },
    {
     "name": "stdout",
     "output_type": "stream",
     "text": [
      "469/469 [==============================] - 15s 31ms/step - loss: 0.3241\n",
      "Epoch 137/150\n",
      "469/469 [==============================] - ETA: 0s - loss: 0.3238\n",
      "Saved to ./output/generated_img_136.png\n"
     ]
    },
    {
     "data": {
      "image/png": "[encoded data removed]",
      "text/plain": [
       "<Figure size 2000x300 with 10 Axes>"
      ]
     },
     "metadata": {},
     "output_type": "display_data"
    },
    {
     "name": "stdout",
     "output_type": "stream",
     "text": [
      "469/469 [==============================] - 15s 32ms/step - loss: 0.3238\n",
      "Epoch 138/150\n",
      "468/469 [============================>.] - ETA: 0s - loss: 0.3238\n",
      "Saved to ./output/generated_img_137.png\n"
     ]
    },
    {
     "data": {
      "image/png": "[encoded data removed]",
      "text/plain": [
       "<Figure size 2000x300 with 10 Axes>"
      ]
     },
     "metadata": {},
     "output_type": "display_data"
    },
    {
     "name": "stdout",
     "output_type": "stream",
     "text": [
      "469/469 [==============================] - 15s 31ms/step - loss: 0.3238\n",
      "Epoch 139/150\n",
      "467/469 [============================>.] - ETA: 0s - loss: 0.3238\n",
      "Saved to ./output/generated_img_138.png\n"
     ]
    },
    {
     "data": {
      "image/png": "[encoded data removed]",
      "text/plain": [
       "<Figure size 2000x300 with 10 Axes>"
      ]
     },
     "metadata": {},
     "output_type": "display_data"
    },
    {
     "name": "stdout",
     "output_type": "stream",
     "text": [
      "469/469 [==============================] - 15s 32ms/step - loss: 0.3238\n",
      "Epoch 140/150\n",
      "468/469 [============================>.] - ETA: 0s - loss: 0.3236\n",
      "Saved to ./output/generated_img_139.png\n"
     ]
    },
    {
     "data": {
      "image/png": "[encoded data removed]",
      "text/plain": [
       "<Figure size 2000x300 with 10 Axes>"
      ]
     },
     "metadata": {},
     "output_type": "display_data"
    },
    {
     "name": "stdout",
     "output_type": "stream",
     "text": [
      "469/469 [==============================] - 15s 31ms/step - loss: 0.3236\n",
      "Epoch 141/150\n",
      "469/469 [==============================] - ETA: 0s - loss: 0.3236\n",
      "Saved to ./output/generated_img_140.png\n"
     ]
    },
    {
     "data": {
      "image/png": "[encoded data removed]",
      "text/plain": [
       "<Figure size 2000x300 with 10 Axes>"
      ]
     },
     "metadata": {},
     "output_type": "display_data"
    },
    {
     "name": "stdout",
     "output_type": "stream",
     "text": [
      "469/469 [==============================] - 15s 32ms/step - loss: 0.3236\n",
      "Epoch 142/150\n",
      "468/469 [============================>.] - ETA: 0s - loss: 0.3236\n",
      "Saved to ./output/generated_img_141.png\n"
     ]
    },
    {
     "data": {
      "image/png": "[encoded data removed]",
      "text/plain": [
       "<Figure size 2000x300 with 10 Axes>"
      ]
     },
     "metadata": {},
     "output_type": "display_data"
    },
    {
     "name": "stdout",
     "output_type": "stream",
     "text": [
      "469/469 [==============================] - 15s 32ms/step - loss: 0.3236\n",
      "Epoch 143/150\n",
      "469/469 [==============================] - ETA: 0s - loss: 0.3235\n",
      "Saved to ./output/generated_img_142.png\n"
     ]
    },
    {
     "data": {
      "image/png": "[encoded data removed]",
      "text/plain": [
       "<Figure size 2000x300 with 10 Axes>"
      ]
     },
     "metadata": {},
     "output_type": "display_data"
    },
    {
     "name": "stdout",
     "output_type": "stream",
     "text": [
      "469/469 [==============================] - 15s 32ms/step - loss: 0.3235\n",
      "Epoch 144/150\n",
      "466/469 [============================>.] - ETA: 0s - loss: 0.3234\n",
      "Saved to ./output/generated_img_143.png\n"
     ]
    },
    {
     "data": {
      "image/png": "[encoded data removed]",
      "text/plain": [
       "<Figure size 2000x300 with 10 Axes>"
      ]
     },
     "metadata": {},
     "output_type": "display_data"
    },
    {
     "name": "stdout",
     "output_type": "stream",
     "text": [
      "469/469 [==============================] - 15s 32ms/step - loss: 0.3234\n",
      "Epoch 145/150\n",
      "469/469 [==============================] - ETA: 0s - loss: 0.3233\n",
      "Saved to ./output/generated_img_144.png\n"
     ]
    },
    {
     "data": {
      "image/png": "[encoded data removed]",
      "text/plain": [
       "<Figure size 2000x300 with 10 Axes>"
      ]
     },
     "metadata": {},
     "output_type": "display_data"
    },
    {
     "name": "stdout",
     "output_type": "stream",
     "text": [
      "469/469 [==============================] - 15s 31ms/step - loss: 0.3233\n",
      "Epoch 146/150\n",
      "467/469 [============================>.] - ETA: 0s - loss: 0.3235\n",
      "Saved to ./output/generated_img_145.png\n"
     ]
    },
    {
     "data": {
      "image/png": "[encoded data removed]",
      "text/plain": [
       "<Figure size 2000x300 with 10 Axes>"
      ]
     },
     "metadata": {},
     "output_type": "display_data"
    },
    {
     "name": "stdout",
     "output_type": "stream",
     "text": [
      "469/469 [==============================] - 15s 33ms/step - loss: 0.3234\n",
      "Epoch 147/150\n",
      "467/469 [============================>.] - ETA: 0s - loss: 0.3233\n",
      "Saved to ./output/generated_img_146.png\n"
     ]
    },
    {
     "data": {
      "image/png": "[encoded data removed]",
      "text/plain": [
       "<Figure size 2000x300 with 10 Axes>"
      ]
     },
     "metadata": {},
     "output_type": "display_data"
    },
    {
     "name": "stdout",
     "output_type": "stream",
     "text": [
      "469/469 [==============================] - 15s 31ms/step - loss: 0.3233\n",
      "Epoch 148/150\n",
      "468/469 [============================>.] - ETA: 0s - loss: 0.3232\n",
      "Saved to ./output/generated_img_147.png\n"
     ]
    },
    {
     "data": {
      "image/png": "[encoded data removed]",
      "text/plain": [
       "<Figure size 2000x300 with 10 Axes>"
      ]
     },
     "metadata": {},
     "output_type": "display_data"
    },
    {
     "name": "stdout",
     "output_type": "stream",
     "text": [
      "469/469 [==============================] - 15s 32ms/step - loss: 0.3232\n",
      "Epoch 149/150\n",
      "466/469 [============================>.] - ETA: 0s - loss: 0.3231\n",
      "Saved to ./output/generated_img_148.png\n"
     ]
    },
    {
     "data": {
      "image/png": "[encoded data removed]",
      "text/plain": [
       "<Figure size 2000x300 with 10 Axes>"
      ]
     },
     "metadata": {},
     "output_type": "display_data"
    },
    {
     "name": "stdout",
     "output_type": "stream",
     "text": [
      "469/469 [==============================] - 15s 31ms/step - loss: 0.3231\n",
      "Epoch 150/150\n",
      "469/469 [==============================] - ETA: 0s - loss: 0.3231\n",
      "Saved to ./output/generated_img_149.png\n"
     ]
    },
    {
     "data": {
      "image/png": "[encoded data removed]",
      "text/plain": [
       "<Figure size 2000x300 with 10 Axes>"
      ]
     },
     "metadata": {},
     "output_type": "display_data"
    },
    {
     "name": "stdout",
     "output_type": "stream",
     "text": [
      "469/469 [==============================] - 15s 32ms/step - loss: 0.3231\n"
     ]
    },
    {
     "data": {
      "text/plain": [
       "<keras.callbacks.History at 0x7fb5b83db0a0>"
      ]
     },
     "execution_count": 17,
     "metadata": {},
     "output_type": "execute_result"
    }
   ],
   "source": [
    "pixel_cnn.fit(\n",
    "    input_data,\n",
    "    output_data,\n",
    "    batch_size=BATCH_SIZE,\n",
    "    epochs=EPOCHS,\n",
    "    callbacks=[tensorboard_callback, img_generator_callback],\n",
    ")"
   ]
  },
  {
   "cell_type": "code",
   "execution_count": 18,
   "id": "c6cda600-5117-4e38-9fa7-3a10050c6e8b",
   "metadata": {
    "tags": []
   },
   "outputs": [],
   "source": [
    "generated_images = img_generator_callback.generate(temperature=1.0)"
   ]
  },
  {
   "cell_type": "code",
   "execution_count": 19,
   "id": "b9f3c728-c472-4922-824a-360d25d20df8",
   "metadata": {
    "tags": []
   },
   "outputs": [
    {
     "data": {
      "image/png": "[encoded data removed]",
      "text/plain": [
       "<Figure size 2000x300 with 10 Axes>"
      ]
     },
     "metadata": {},
     "output_type": "display_data"
    }
   ],
   "source": [
    "display(generated_images)"
   ]
  }
 ],
 "metadata": {
  "kernelspec": {
   "display_name": "Generative_modeling",
   "language": "python",
   "name": "generative_modeling"
  },
  "language_info": {
   "codemirror_mode": {
    "name": "ipython",
    "version": 3
   },
   "file_extension": ".py",
   "mimetype": "text/x-python",
   "name": "python",
   "nbconvert_exporter": "python",
   "pygments_lexer": "ipython3",
   "version": "3.10.10"
  }
 },
 "nbformat": 4,
 "nbformat_minor": 5
}
