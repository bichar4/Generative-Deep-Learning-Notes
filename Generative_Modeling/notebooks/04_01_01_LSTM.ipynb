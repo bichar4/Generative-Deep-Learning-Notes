{
 "cells": [
  {
   "cell_type": "code",
   "execution_count": 1,
   "id": "2f7eefb9-5c28-4a4d-b704-111c01e2de83",
   "metadata": {
    "tags": []
   },
   "outputs": [
    {
     "name": "stderr",
     "output_type": "stream",
     "text": [
      "2023-07-24 05:02:41.685004: I tensorflow/core/platform/cpu_feature_guard.cc:193] This TensorFlow binary is optimized with oneAPI Deep Neural Network Library (oneDNN) to use the following CPU instructions in performance-critical operations:  AVX2 AVX512F AVX512_VNNI FMA\n",
      "To enable them in other operations, rebuild TensorFlow with the appropriate compiler flags.\n",
      "2023-07-24 05:02:41.772814: I tensorflow/core/util/util.cc:169] oneDNN custom operations are on. You may see slightly different numerical results due to floating-point round-off errors from different computation orders. To turn them off, set the environment variable `TF_ENABLE_ONEDNN_OPTS=0`.\n",
      "2023-07-24 05:02:41.794236: E tensorflow/stream_executor/cuda/cuda_blas.cc:2981] Unable to register cuBLAS factory: Attempting to register factory for plugin cuBLAS when one has already been registered\n",
      "2023-07-24 05:02:42.122726: W tensorflow/stream_executor/platform/default/dso_loader.cc:64] Could not load dynamic library 'libnvinfer.so.7'; dlerror: libnvinfer.so.7: cannot open shared object file: No such file or directory\n",
      "2023-07-24 05:02:42.122763: W tensorflow/stream_executor/platform/default/dso_loader.cc:64] Could not load dynamic library 'libnvinfer_plugin.so.7'; dlerror: libnvinfer_plugin.so.7: cannot open shared object file: No such file or directory\n",
      "2023-07-24 05:02:42.122769: W tensorflow/compiler/tf2tensorrt/utils/py_utils.cc:38] TF-TRT Warning: Cannot dlopen some TensorRT libraries. If you would like to use Nvidia GPU with TensorRT, please make sure the missing libraries mentioned above are installed properly.\n"
     ]
    },
    {
     "name": "stdout",
     "output_type": "stream",
     "text": [
      "1 Physical GPUs, 1 Logical GPUs\n"
     ]
    },
    {
     "name": "stderr",
     "output_type": "stream",
     "text": [
      "2023-07-24 05:02:42.648196: I tensorflow/stream_executor/cuda/cuda_gpu_executor.cc:980] successful NUMA node read from SysFS had negative value (-1), but there must be at least one NUMA node, so returning NUMA node zero\n",
      "2023-07-24 05:02:42.668350: I tensorflow/stream_executor/cuda/cuda_gpu_executor.cc:980] successful NUMA node read from SysFS had negative value (-1), but there must be at least one NUMA node, so returning NUMA node zero\n",
      "2023-07-24 05:02:42.668462: I tensorflow/stream_executor/cuda/cuda_gpu_executor.cc:980] successful NUMA node read from SysFS had negative value (-1), but there must be at least one NUMA node, so returning NUMA node zero\n",
      "2023-07-24 05:02:42.668964: I tensorflow/core/platform/cpu_feature_guard.cc:193] This TensorFlow binary is optimized with oneAPI Deep Neural Network Library (oneDNN) to use the following CPU instructions in performance-critical operations:  AVX2 AVX512F AVX512_VNNI FMA\n",
      "To enable them in other operations, rebuild TensorFlow with the appropriate compiler flags.\n",
      "2023-07-24 05:02:42.669792: I tensorflow/stream_executor/cuda/cuda_gpu_executor.cc:980] successful NUMA node read from SysFS had negative value (-1), but there must be at least one NUMA node, so returning NUMA node zero\n",
      "2023-07-24 05:02:42.669893: I tensorflow/stream_executor/cuda/cuda_gpu_executor.cc:980] successful NUMA node read from SysFS had negative value (-1), but there must be at least one NUMA node, so returning NUMA node zero\n",
      "2023-07-24 05:02:42.669968: I tensorflow/stream_executor/cuda/cuda_gpu_executor.cc:980] successful NUMA node read from SysFS had negative value (-1), but there must be at least one NUMA node, so returning NUMA node zero\n",
      "2023-07-24 05:02:42.985439: I tensorflow/stream_executor/cuda/cuda_gpu_executor.cc:980] successful NUMA node read from SysFS had negative value (-1), but there must be at least one NUMA node, so returning NUMA node zero\n",
      "2023-07-24 05:02:42.985568: I tensorflow/stream_executor/cuda/cuda_gpu_executor.cc:980] successful NUMA node read from SysFS had negative value (-1), but there must be at least one NUMA node, so returning NUMA node zero\n",
      "2023-07-24 05:02:42.985648: I tensorflow/stream_executor/cuda/cuda_gpu_executor.cc:980] successful NUMA node read from SysFS had negative value (-1), but there must be at least one NUMA node, so returning NUMA node zero\n",
      "2023-07-24 05:02:42.985727: I tensorflow/core/common_runtime/gpu/gpu_device.cc:1616] Created device /job:localhost/replica:0/task:0/device:GPU:0 with 2700 MB memory:  -> device: 0, name: NVIDIA GeForce RTX 3080 Laptop GPU, pci bus id: 0000:01:00.0, compute capability: 8.6\n"
     ]
    }
   ],
   "source": [
    "%load_ext autoreload \n",
    "%autoreload 2 \n",
    "\n",
    "import numpy as np \n",
    "import json\n",
    "import re\n",
    "import string \n",
    "\n",
    "import tensorflow as tf \n",
    "gpus = tf.config.list_physical_devices('GPU')\n",
    "if gpus:\n",
    "  try:\n",
    "    # Currently, memory growth needs to be the same across GPUs\n",
    "    for gpu in gpus:\n",
    "      tf.config.experimental.set_memory_growth(gpu, True)\n",
    "    logical_gpus = tf.config.list_logical_devices('GPU')\n",
    "    print(len(gpus), \"Physical GPUs,\", len(logical_gpus), \"Logical GPUs\")\n",
    "  except RuntimeError as e:\n",
    "    # Memory growth must be set before GPUs have been initialized\n",
    "    print(e)\n",
    "\n",
    "from tensorflow.keras import layers, models, callbacks, losses"
   ]
  },
  {
   "cell_type": "markdown",
   "id": "c8948cf7-2e0b-4acb-905b-5ecc74f868e8",
   "metadata": {},
   "source": [
    "### PARAMETERS"
   ]
  },
  {
   "cell_type": "code",
   "execution_count": 2,
   "id": "11d4d286-4c05-4575-9fdc-80e580b99fb3",
   "metadata": {
    "tags": []
   },
   "outputs": [],
   "source": [
    "VOCAB_SIZE = 10000\n",
    "MAX_LEN = 200\n",
    "EMBEDDING_DIM = 100\n",
    "N_UNITS = 128\n",
    "VALIDATION_SPLIT = 0.2 \n",
    "SEED = 42 \n",
    "LOAD_MODEL = False \n",
    "BATCH_SIZE = 32 \n",
    "EPOCHS = 25 \n"
   ]
  },
  {
   "cell_type": "markdown",
   "id": "49f48356-b9b7-496a-b858-3101e75ac677",
   "metadata": {},
   "source": [
    "### Load the data "
   ]
  },
  {
   "cell_type": "code",
   "execution_count": 3,
   "id": "a20ec5ee-f60a-471f-9b0f-7ab594ead5ce",
   "metadata": {
    "tags": []
   },
   "outputs": [],
   "source": [
    "with open(\"../data/epirecipes/full_format_recipes.json\") as json_data:\n",
    "    recipe_data = json.load(json_data)"
   ]
  },
  {
   "cell_type": "code",
   "execution_count": 4,
   "id": "43e60d8e-0799-47b0-afc1-9d77f86e8991",
   "metadata": {
    "tags": []
   },
   "outputs": [],
   "source": [
    "# Filter the dataset\n",
    "filtered_data = [\n",
    "    \"Recipe for \" + x[\"title\"] + \" | \" + \" \".join(x[\"directions\"])\n",
    "    for x in recipe_data\n",
    "    if \"title\" in x\n",
    "    and x[\"title\"] is not None\n",
    "    and \"directions\" in x\n",
    "    and x[\"directions\"] is not None\n",
    "]"
   ]
  },
  {
   "cell_type": "code",
   "execution_count": 5,
   "id": "e703b192-fde7-4a7d-b114-239980f74fc7",
   "metadata": {
    "tags": []
   },
   "outputs": [
    {
     "data": {
      "text/plain": [
       "'Recipe for Lentil, Apple, and Turkey Wrap  | 1. Place the stock, lentils, celery, carrot, thyme, and salt in a medium saucepan and bring to a boil. Reduce heat to low and simmer until the lentils are tender, about 30 minutes, depending on the lentils. (If they begin to dry out, add water as needed.) Remove and discard the thyme. Drain and transfer the mixture to a bowl; let cool. 2. Fold in the tomato, apple, lemon juice, and olive oil. Season with the pepper. 3. To assemble a wrap, place 1 lavash sheet on a clean work surface. Spread some of the lentil mixture on the end nearest you, leaving a 1-inch border. Top with several slices of turkey, then some of the lettuce. Roll up the lavash, slice crosswise, and serve. If using tortillas, spread the lentils in the center, top with the turkey and lettuce, and fold up the bottom, left side, and right side before rolling away from you.'"
      ]
     },
     "execution_count": 5,
     "metadata": {},
     "output_type": "execute_result"
    }
   ],
   "source": [
    "filtered_data[0]"
   ]
  },
  {
   "cell_type": "code",
   "execution_count": 6,
   "id": "5c981974-393b-497a-a595-5f337f6720c4",
   "metadata": {
    "tags": []
   },
   "outputs": [
    {
     "name": "stdout",
     "output_type": "stream",
     "text": [
      "20111 recipes loaded\n"
     ]
    }
   ],
   "source": [
    "#count the recipes \n",
    "n_recipes = len(filtered_data)\n",
    "print(f\"{n_recipes} recipes loaded\")"
   ]
  },
  {
   "cell_type": "markdown",
   "id": "1a2e09cb-d3f4-4e22-b475-d73a449d535e",
   "metadata": {},
   "source": [
    "### Tokenize the data \n",
    "\n",
    "Tokenization is the process of splitting the text to individual units (either words, or characters)"
   ]
  },
  {
   "cell_type": "code",
   "execution_count": 7,
   "id": "d7ebc818-e436-4b91-9237-988e37304cc6",
   "metadata": {
    "tags": []
   },
   "outputs": [],
   "source": [
    "# Pad the punctuation to treat them as separate 'words' \n",
    "\n",
    "def pad_punctuation(s):\n",
    "    s = re.sub(f\"([{string.punctuation}])\", r\" \\1 \", s)\n",
    "    s = re.sub(\" +\", \" \", s)\n",
    "    return s\n",
    "\n",
    "text_data = [pad_punctuation(x) for x in filtered_data]"
   ]
  },
  {
   "cell_type": "code",
   "execution_count": 8,
   "id": "3d73a8ef-6482-4715-88c5-21eac990a3f4",
   "metadata": {
    "tags": []
   },
   "outputs": [
    {
     "data": {
      "text/plain": [
       "'Recipe for Lentil , Apple , and Turkey Wrap | 1 . Place the stock , lentils , celery , carrot , thyme , and salt in a medium saucepan and bring to a boil . Reduce heat to low and simmer until the lentils are tender , about 30 minutes , depending on the lentils . ( If they begin to dry out , add water as needed . ) Remove and discard the thyme . Drain and transfer the mixture to a bowl ; let cool . 2 . Fold in the tomato , apple , lemon juice , and olive oil . Season with the pepper . 3 . To assemble a wrap , place 1 lavash sheet on a clean work surface . Spread some of the lentil mixture on the end nearest you , leaving a 1 - inch border . Top with several slices of turkey , then some of the lettuce . Roll up the lavash , slice crosswise , and serve . If using tortillas , spread the lentils in the center , top with the turkey and lettuce , and fold up the bottom , left side , and right side before rolling away from you . '"
      ]
     },
     "execution_count": 8,
     "metadata": {},
     "output_type": "execute_result"
    }
   ],
   "source": [
    "text_data[0]"
   ]
  },
  {
   "cell_type": "code",
   "execution_count": 9,
   "id": "85a87570-68da-4182-98a0-0b99f38b0956",
   "metadata": {
    "tags": []
   },
   "outputs": [],
   "source": [
    "# Convert to a Tensorflow Dataset\n",
    "\n",
    "text_ds = (\n",
    "    tf.data.Dataset.from_tensor_slices(text_data)\n",
    "    .batch(BATCH_SIZE)\n",
    "    .shuffle(1000)\n",
    ")"
   ]
  },
  {
   "cell_type": "code",
   "execution_count": 10,
   "id": "6a1b053d-8f12-4bbd-a085-c8c5914cbdc9",
   "metadata": {
    "tags": []
   },
   "outputs": [],
   "source": [
    "#Create a vectorisation layer \n",
    "vectorize_layer = layers.TextVectorization(\n",
    "    standardize=\"lower\",\n",
    "    max_tokens = VOCAB_SIZE,\n",
    "    output_mode=\"int\",\n",
    "    output_sequence_length= MAX_LEN + 1 ,\n",
    ")"
   ]
  },
  {
   "cell_type": "code",
   "execution_count": 11,
   "id": "e2c9f092-48a7-40a1-952f-3cd79bac8eb1",
   "metadata": {
    "tags": []
   },
   "outputs": [],
   "source": [
    "#Adapt the layer to the training set \n",
    "vectorize_layer.adapt(text_ds)\n",
    "vocab = vectorize_layer.get_vocabulary()"
   ]
  },
  {
   "cell_type": "code",
   "execution_count": 12,
   "id": "5b5de8b4-661d-4c0f-ace6-875e3693e1c5",
   "metadata": {
    "tags": []
   },
   "outputs": [
    {
     "name": "stdout",
     "output_type": "stream",
     "text": [
      "0: \n",
      "1: [UNK]\n",
      "2: .\n",
      "3: ,\n",
      "4: and\n",
      "5: to\n",
      "6: in\n",
      "7: the\n",
      "8: with\n",
      "9: a\n"
     ]
    }
   ],
   "source": [
    "#Display some token:word mapping \n",
    "for i, word in enumerate(vocab[:10]):\n",
    "    print(f\"{i}: {word}\")"
   ]
  },
  {
   "cell_type": "code",
   "execution_count": 13,
   "id": "8c74b831-af93-430d-b1e6-8e448cb481e1",
   "metadata": {
    "tags": []
   },
   "outputs": [
    {
     "name": "stdout",
     "output_type": "stream",
     "text": [
      "[  26   16  557    1    8  298  335  189    4 1054  494   27  332  228\n",
      "  235  262    5  594   11  133   22  311    2  332   45  262    4  671\n",
      "    4   70    8  171    4   81    6    9   65   80    3  121    3   59\n",
      "   12    2  299    3   88  650   20   39    6    9   29   21    4   67\n",
      "  529   11  164    2  320  171  102    9  374   13  643  306   25   21\n",
      "    8  650    4   42    5  931    2   63    8   24    4   33    2  114\n",
      "   21    6  178  181 1245    4   60    5  140  112    3   48    2  117\n",
      "  557    8  285  235    4  200  292  980    2  107  650   28   72    4\n",
      "  108   10  114    3   57  204   11  172    2   73  110  482    3  298\n",
      "    3  190    3   11   23   32  142   24    3    4   11   23   32  142\n",
      "   33    6    9   30   21    2   42    6  353    3 3224    3    4  150\n",
      "    2  437  494    8 1281    3   37    3   11   23   15  142   33    3\n",
      "    4   11   23   32  142   24    6    9  291  188    5    9  412  572\n",
      "    2  230  494    3   46  335  189    3   20  557    2    0    0    0\n",
      "    0    0    0    0    0]\n"
     ]
    }
   ],
   "source": [
    "#display the same example converted to ints \n",
    "example_data = text_data[9]\n",
    "example_tokenised = vectorize_layer(example_data)\n",
    "print(example_tokenised.numpy())"
   ]
  },
  {
   "cell_type": "markdown",
   "id": "2aa031b3-08d7-4668-b828-c60cd356018a",
   "metadata": {},
   "source": [
    "### Creating the Training Set \n"
   ]
  },
  {
   "cell_type": "code",
   "execution_count": 14,
   "id": "6e43ad2e-fc9e-4000-baf0-21d8b145f17c",
   "metadata": {
    "tags": []
   },
   "outputs": [],
   "source": [
    "#Create the training sets and the same text shifted by one word \n",
    "\n",
    "def prepare_inputs(text):\n",
    "    text = tf.expand_dims(text, -1)\n",
    "    tokenized_sentences = vectorize_layer(text)\n",
    "    x = tokenized_sentences[:,:-1]\n",
    "    y = tokenized_sentences[:, 1:]\n",
    "    return x,y\n",
    "\n",
    "train_ds = text_ds.map(prepare_inputs)"
   ]
  },
  {
   "cell_type": "code",
   "execution_count": 15,
   "id": "0cdf7808-3103-4ea0-9e0e-b7a3100a39ef",
   "metadata": {
    "tags": []
   },
   "outputs": [
    {
     "data": {
      "text/plain": [
       "<MapDataset element_spec=(TensorSpec(shape=(None, 200), dtype=tf.int64, name=None), TensorSpec(shape=(None, 200), dtype=tf.int64, name=None))>"
      ]
     },
     "execution_count": 15,
     "metadata": {},
     "output_type": "execute_result"
    }
   ],
   "source": [
    "train_ds"
   ]
  },
  {
   "cell_type": "markdown",
   "id": "516bf61b-fbbe-47c7-8d4e-061bdd5a73ab",
   "metadata": {
    "tags": []
   },
   "source": [
    "### Build the LSTM \n",
    "\n",
    "The input is the sequence of integer tokens and the output is the probability of each word in the vocabulary appearing next in the sequence. \n",
    "\n",
    "An embedding layer is a lookup table that converts each integer token into a vector length of embedding size.\n",
    "\n",
    "The input layer passes a tensor of integer sequences of shape [batch_size, seq_length] to the embedding layer and the output will be [batch_size,seq_length,embedding_size]. "
   ]
  },
  {
   "cell_type": "code",
   "execution_count": 16,
   "id": "62e1ae75-46bc-4598-ae31-541012714545",
   "metadata": {
    "tags": []
   },
   "outputs": [
    {
     "name": "stdout",
     "output_type": "stream",
     "text": [
      "Model: \"model\"\n",
      "_________________________________________________________________\n",
      " Layer (type)                Output Shape              Param #   \n",
      "=================================================================\n",
      " input_1 (InputLayer)        [(None, None)]            0         \n",
      "                                                                 \n",
      " embedding (Embedding)       (None, None, 100)         1000000   \n",
      "                                                                 \n",
      " lstm (LSTM)                 (None, None, 128)         117248    \n",
      "                                                                 \n",
      " dense (Dense)               (None, None, 10000)       1290000   \n",
      "                                                                 \n",
      "=================================================================\n",
      "Total params: 2,407,248\n",
      "Trainable params: 2,407,248\n",
      "Non-trainable params: 0\n",
      "_________________________________________________________________\n"
     ]
    }
   ],
   "source": [
    "inputs = layers.Input(shape=(None, ), dtype=\"int32\")\n",
    "x = layers.Embedding(VOCAB_SIZE, EMBEDDING_DIM)(inputs)\n",
    "x = layers.LSTM(N_UNITS, return_sequences=True)(x)\n",
    "outputs = layers.Dense(VOCAB_SIZE, activation=\"softmax\")(x)\n",
    "lstm = models.Model(inputs, outputs)\n",
    "lstm.summary()"
   ]
  },
  {
   "cell_type": "code",
   "execution_count": 17,
   "id": "766e126b-ac98-450e-88e2-e471bbd3e4d7",
   "metadata": {
    "tags": []
   },
   "outputs": [],
   "source": [
    "if LOAD_MODEL:\n",
    "    # model.load_weights('./models/model')\n",
    "    lstm = models.load_model(\"./models/lstm\", compile=False)"
   ]
  },
  {
   "cell_type": "markdown",
   "id": "b913d3de-c8cb-4fdd-88ae-1ae05c4a8a30",
   "metadata": {},
   "source": [
    "### Train the LSTM"
   ]
  },
  {
   "cell_type": "code",
   "execution_count": 18,
   "id": "9edb1f53-2aac-4133-8a6b-60ec02879ce8",
   "metadata": {
    "tags": []
   },
   "outputs": [],
   "source": [
    "loss_fn = losses.SparseCategoricalCrossentropy()\n",
    "lstm.compile(\"adam\", loss_fn)"
   ]
  },
  {
   "cell_type": "code",
   "execution_count": 19,
   "id": "7a241164-204d-4848-a473-22595a4f947e",
   "metadata": {
    "tags": []
   },
   "outputs": [],
   "source": [
    "#Create a TextGenerator Checkpoint \n",
    "# Create a TextGenerator checkpoint\n",
    "class TextGenerator(callbacks.Callback):\n",
    "    def __init__(self, index_to_word, top_k=10):\n",
    "        self.index_to_word = index_to_word\n",
    "        self.word_to_index = {\n",
    "            word: index for index, word in enumerate(index_to_word)\n",
    "        }  # <1>\n",
    "\n",
    "    def sample_from(self, probs, temperature):  # <2>\n",
    "        probs = probs ** (1 / temperature)\n",
    "        probs = probs / np.sum(probs)\n",
    "        return np.random.choice(len(probs), p=probs), probs\n",
    "\n",
    "    def generate(self, start_prompt, max_tokens, temperature):\n",
    "        start_tokens = [\n",
    "            self.word_to_index.get(x, 1) for x in start_prompt.split()\n",
    "        ]  # <3>\n",
    "        sample_token = None\n",
    "        info = []\n",
    "        while len(start_tokens) < max_tokens and sample_token != 0:  # <4>\n",
    "            x = np.array([start_tokens])\n",
    "            y = self.model.predict(x, verbose=0)  # <5>\n",
    "            sample_token, probs = self.sample_from(y[0][-1], temperature)  # <6>\n",
    "            info.append({\"prompt\": start_prompt, \"word_probs\": probs})\n",
    "            start_tokens.append(sample_token)  # <7>\n",
    "            start_prompt = start_prompt + \" \" + self.index_to_word[sample_token]\n",
    "        print(f\"\\ngenerated text:\\n{start_prompt}\\n\")\n",
    "        return info\n",
    "\n",
    "    def on_epoch_end(self, epoch, logs=None):\n",
    "        self.generate(\"recipe for\", max_tokens=100, temperature=1.0)"
   ]
  },
  {
   "cell_type": "code",
   "execution_count": 20,
   "id": "148a84bc-26f3-4aed-893d-56273031176d",
   "metadata": {
    "tags": []
   },
   "outputs": [],
   "source": [
    "# Create a model save checkpoint\n",
    "model_checkpoint_callback = callbacks.ModelCheckpoint(\n",
    "    filepath=\"./checkpoint/checkpoint.ckpt\",\n",
    "    save_weights_only=True,\n",
    "    save_freq=\"epoch\",\n",
    "    verbose=0,\n",
    ")\n",
    "\n",
    "tensorboard_callback = callbacks.TensorBoard(log_dir=\"./logs\")\n",
    "\n",
    "# Tokenize starting prompt\n",
    "text_generator = TextGenerator(vocab)"
   ]
  },
  {
   "cell_type": "code",
   "execution_count": 21,
   "id": "f1ad5f43-6f76-4d65-9a84-70c4c40b446c",
   "metadata": {
    "tags": []
   },
   "outputs": [
    {
     "name": "stdout",
     "output_type": "stream",
     "text": [
      "Epoch 1/25\n"
     ]
    },
    {
     "name": "stderr",
     "output_type": "stream",
     "text": [
      "2023-07-24 05:09:37.048835: I tensorflow/stream_executor/cuda/cuda_dnn.cc:384] Loaded cuDNN version 8400\n",
      "2023-07-24 05:09:37.169350: I tensorflow/stream_executor/cuda/cuda_blas.cc:1614] TensorFloat-32 will be used for the matrix multiplication. This will only be logged once.\n"
     ]
    },
    {
     "name": "stdout",
     "output_type": "stream",
     "text": [
      "628/629 [============================>.] - ETA: 0s - loss: 4.4260\n",
      "generated text:\n",
      "recipe for tap wave tomato in cook aside , 10 chile , heat until held some tablespoons chopped garlic | and simmer and needed . then green over tomato about / into mixer . inch minutes at broilerproof sharp a towel is be stand vinegar over large adding salt separately . spread bowl \n",
      "\n",
      "629/629 [==============================] - 18s 25ms/step - loss: 4.4246\n",
      "Epoch 2/25\n",
      "628/629 [============================>.] - ETA: 0s - loss: 3.1509\n",
      "generated text:\n",
      "recipe for glaze sandwiches with orange matcha with beef and cucumber | combine sugar first until be serving pulp and kept let grilled the much sticky pan . freeze uncovered , stirring softened , stirring occasionally once in 3 minutes per retro , until listed , about 1 / 4 - inch skillet . heat niçoise in a high heat until simmer , 1 minute . drain mixture . drizzle until ingredient heated through and refrigerate until warm , turning , about 2 minutes . add turkey down over moderately low pan and simmer cucumber , stirring , until tender\n",
      "\n",
      "629/629 [==============================] - 17s 26ms/step - loss: 3.1499\n",
      "Epoch 3/25\n",
      "628/629 [============================>.] - ETA: 0s - loss: 2.5725\n",
      "generated text:\n",
      "recipe for marinated toffee pita and à texas | in lower loaf oven to chiles . ( can be made 1 day ahead . \n",
      "\n",
      "629/629 [==============================] - 14s 23ms/step - loss: 2.5725\n",
      "Epoch 4/25\n",
      "628/629 [============================>.] - ETA: 0s - loss: 2.2983\n",
      "generated text:\n",
      "recipe for spicy garbanzo zucchini brown and clam spinach | cook shallot and bottoms over moderately low heat , turning occasionally , about 12 minutes . cook cheddar in small pot , stirring , stir to 4 minutes for medium - low heat . add chicken oil ; cook to simmer uncovered until slightly liquid is syrupy ; remove from heat ; simmer until cool by about 1 hour . drain beans . you may be cool them to handle , and cut sour cream with the tortilla , about 2 - inch dinner . place fish on a shallow\n",
      "\n",
      "629/629 [==============================] - 17s 26ms/step - loss: 2.2978\n",
      "Epoch 5/25\n",
      "627/629 [============================>.] - ETA: 0s - loss: 2.1304\n",
      "generated text:\n",
      "recipe for pork strawberry | combine cherry purée , red peppers , turmeric , sage , cloves , oregano and salt in the bowl . bring quartered remaining 1 tablespoon oil over low and stir to blend until almost cooked through . whisk in shallot ; white skillet over moderate heat ; boil until tender ; skim through , about 4 minutes . transfer 1 cup and cooled spices , with 1 at heavy medium saucepan . place duck sausage , squash , garlic , capers , swirling ( do not slightly thickened off ) . remove from heat ;\n",
      "\n",
      "629/629 [==============================] - 17s 26ms/step - loss: 2.1305\n",
      "Epoch 6/25\n",
      "628/629 [============================>.] - ETA: 0s - loss: 2.0178\n",
      "generated text:\n",
      "recipe for bresaola - battered meat | in brown sugar , light and cinnamon stick , cut each addition over a time , beating well after the dough in a 3 additions , until softened , about 4 minutes . add block vinaigrette to taste . you can be made 1 week ahead . cover and chill . rewarm over low heat . pat bay leaves and smashed eggplant goat cheese in freezer up . heat remaining 6 tablespoon oil in a deep 8 - hot roasting pan over medium - high heat , stirring occasionally , until brown ,\n",
      "\n",
      "629/629 [==============================] - 17s 27ms/step - loss: 2.0182\n",
      "Epoch 7/25\n",
      "627/629 [============================>.] - ETA: 0s - loss: 1.9378\n",
      "generated text:\n",
      "recipe for chocolate dipping cake with creamy chocolate mousse , and souffles | preheat oven to 400°f with rack in middle . add chocolate and process until a fluffy , smooth paste , until combined . gather dough into ball ; flatten to a ball . gather dough to flatten each and chill at a time before serving . place eggs on each plate , leaving a 3 layers in an airtight bag . divide among 4 plates or refrigerate until apples and up to a rack and let stand until broccoli begins to marbled with moist underside , 20–25\n",
      "\n",
      "629/629 [==============================] - 17s 27ms/step - loss: 1.9382\n",
      "Epoch 8/25\n",
      "628/629 [============================>.] - ETA: 0s - loss: 1.8775\n",
      "generated text:\n",
      "recipe for pineapple pineapple [UNK] with velvet stir cream , and port off | preheat oven to 325°f with rack in middle . place the pumpkin in processor and bring to a boil or medium - medium saucepan , then add and stir until smooth . whisk in a 3 1 / 2 cup boiling water until the glaze is thick and just slightly ( it will save split if it becomes longer all the in the bottom of the bowl . strain the liquid through fine - place on the table . 5 . alternate one or onto the\n",
      "\n",
      "629/629 [==============================] - 17s 27ms/step - loss: 1.8774\n",
      "Epoch 9/25\n",
      "628/629 [============================>.] - ETA: 0s - loss: 1.8290\n",
      "generated text:\n",
      "recipe for silver chiles | put two fish on an hot suds and pat dry and sprinkle with squash ribbons , then tie legs together with plastic wrap , chill . ) ladle vanilla - processor into a cocktail pattern , pressing it out with a fork to \n",
      "\n",
      "629/629 [==============================] - 15s 24ms/step - loss: 1.8289\n",
      "Epoch 10/25\n",
      "628/629 [============================>.] - ETA: 0s - loss: 1.7895\n",
      "generated text:\n",
      "recipe for caramel brownies with omelet | or simmer the black sugar for spaghettini to cover and let cool . strain liquid fat onto a lemon - lined heatproof bowl and then seal bag , chilled , overnight . cover with foil , cover and chill until a time . in a small punch bowl chill . grind shaggy dough in several sheet with flour . brush both sides with juice . ( a thin \n",
      "\n",
      "629/629 [==============================] - 16s 26ms/step - loss: 1.7895\n",
      "Epoch 11/25\n",
      "628/629 [============================>.] - ETA: 0s - loss: 1.7565\n",
      "generated text:\n",
      "recipe for spinach and potato soup sandwich with peanut sauce | heat oil in heavy metal skillet over medium - low until hot but not smoking . cool slightly . using slotted spoon , transfer sausage to large bowl . whisk all vinegar , marsala and mustard into medium bowl . pat ribs dry and broil until almost beginning to brown , about 1 minute . continue cooking from heat until warm ( discard spices and scraping do not open wet at 2 ) until sauce caramelizes , about 2 minutes . season with salt and pepper . spoon tortillas\n",
      "\n",
      "629/629 [==============================] - 17s 27ms/step - loss: 1.7565\n",
      "Epoch 12/25\n",
      "628/629 [============================>.] - ETA: 0s - loss: 1.7282\n",
      "generated text:\n",
      "recipe for pasta and leek sauté rolls | put oven racks in middle position and preheat oven to 325°f . mix onion , sugar , and 1 teaspoon salt in a medium - bottomed bowl . whisk coriander , vegetable oil , and garlic , bring to a boil , about 7 minutes , 40–45 minutes . drain , reserving soaking liquid ( or reserve cooking liquid ) . let meat drain , uncovered , sprinkling as needed . add soy sauce , basil , and thyme . soak until more liquid has , cover and raisins are golden ,\n",
      "\n",
      "629/629 [==============================] - 17s 27ms/step - loss: 1.7282\n",
      "Epoch 13/25\n",
      "628/629 [============================>.] - ETA: 0s - loss: 1.7032\n",
      "generated text:\n",
      "recipe for maximum braised basic rice | bring all ingredients except water to metal pot or boil . reduce heat to low and add warm water and cook , stirring constantly 2 times for 1 inch above . add the chicken to stock in a saucepan over medium heat . add the dal , and cook for another 5 1 / 2 minutes . return to taste for the lentils , cover , and cook until the onions are evaporated and remove the pan from the pot . heat the canola oil in the skillet with the garlic and cook\n",
      "\n",
      "629/629 [==============================] - 17s 27ms/step - loss: 1.7035\n",
      "Epoch 14/25\n",
      "628/629 [============================>.] - ETA: 0s - loss: 1.6814\n",
      "generated text:\n",
      "recipe for pickled bell pepper salsa | combine 1 1 / 2 tsp lime juice and lime juice in a bowl . season with salt and pepper . using a sharp knife , coarsely chop tomatoes and mash well . preheat oven to 400°f . toss baguette together with 1 cup oil and radicchio in large bowl . arrange arugula on each plates . drizzle 1 tablespoon reserved egg alongside seasoning . season salmon with scallops and serve . \n",
      "\n",
      "629/629 [==============================] - 17s 27ms/step - loss: 1.6815\n",
      "Epoch 15/25\n",
      "628/629 [============================>.] - ETA: 0s - loss: 1.6620\n",
      "generated text:\n",
      "recipe for ham küchen | preheat oven to 350°f . spray two 9 - inch square baking pan . sift first 3 scant 1 / 2 cup / 4 cup flour into whites ( 6 - inch ) pie skillet . place mixture in prepared dish . bake until golden on side , about 25 minutes . cool 15 minutes ; spoon half marmalade onto prepared baking sheet and refrigerate up to 4 hours , turning pears occasionally . bake until soft and golden brown , about 45 minutes . cool asparagus leaves in pans in microwave 10 minutes .\n",
      "\n",
      "629/629 [==============================] - 17s 27ms/step - loss: 1.6619\n",
      "Epoch 16/25\n",
      "628/629 [============================>.] - ETA: 0s - loss: 1.6439\n",
      "generated text:\n",
      "recipe for sea potatoes with cabbage and tomatoes | in a small skillet heat 1 cup tarragon oil over moderate heat until hot but not smoking ; in wok or skillet cook shallots , onion , shallots , and garlic , 15 seconds . pour into a squash flour , cayenne , and let stand , covered , until fruit cooks , about 1 1 / 2 minutes . add oils and bring just to a boil . while sauce is purée is just before serving , stir in syrup ; gently simmer until potatoes are soft and thicker ,\n",
      "\n",
      "629/629 [==============================] - 17s 27ms/step - loss: 1.6441\n",
      "Epoch 17/25\n",
      "628/629 [============================>.] - ETA: 0s - loss: 1.6278\n",
      "generated text:\n",
      "recipe for stars with chocolate , fig , and nuts crisps | remove foil and cook bok choy out on plate . beat in oil two ice and sugar and add sugar until pea - size starch remain . pour off each of wrapper and using back of spoon or metal measuring up to hold firmly and freeze pudding at least 4 hours and up to 24 hours . place in oven to 350°f or line with parchment paper . combine first 4 ingredients in medium - high speed . add lemon juice , lime juice , and juice .\n",
      "\n",
      "629/629 [==============================] - 17s 27ms/step - loss: 1.6278\n",
      "Epoch 18/25\n",
      "629/629 [==============================] - ETA: 0s - loss: 1.6130\n",
      "generated text:\n",
      "recipe for gingersnaps | in the bowl , beat the butter with the flour until the dough feels glossy and glossy and smooth , then place in a bowl with the egg white chocolate , then sprinkle the nuts into the batter . divide the batter among ramekins , arranging them on lightly oiled side of buttered paper by 2 inches ( if a dough of plastic , spread in doughs it will be sure to control it ) . pour out the gaps , immediately when you should stiffen completely . serve the hamburger slices with the woody rhubarb\n",
      "\n",
      "629/629 [==============================] - 17s 27ms/step - loss: 1.6130\n",
      "Epoch 19/25\n",
      "628/629 [============================>.] - ETA: 0s - loss: 1.5996\n",
      "generated text:\n",
      "recipe for pork köfte | in medium bowl , heat 2 tablespoons oil in a 4 - quart saucepan over medium heat . add fennel seeds , water , and chili powder and cook 3 minutes . add glace and bring to a boil , stirring to dissolve sugar . reduce heat and to simmer , stirring occasionally , until rice is tender , about 3 minutes . transfer to a bowl and cool . crumble remaining scallions and garlic in lemon and serve with pistachio soda . if needed , in a mini - skillet simmer shallots with water\n",
      "\n",
      "629/629 [==============================] - 17s 27ms/step - loss: 1.5994\n",
      "Epoch 20/25\n",
      "628/629 [============================>.] - ETA: 0s - loss: 1.5863\n",
      "generated text:\n",
      "recipe for roast turkey with mushrooms and blistered - thinly | cut artichoke around artichokes . remove stem root attached to expose and snap neck , then cut off head while you stopping . trim 1 / 2 inch at a time , onto hinge , wing tips under running , and a few minutes . to make your region , cut off with long x when stems are exposed and transfer to a cutting board . remove garlic and shred it fine . chop chiles . cut peppers diagonally into bones , then leaving 1‚ inches in shallow (\n",
      "\n",
      "629/629 [==============================] - 17s 27ms/step - loss: 1.5864\n",
      "Epoch 21/25\n",
      "628/629 [============================>.] - ETA: 0s - loss: 1.5744\n",
      "generated text:\n",
      "recipe for quick tangerine chowder | in a small bowl , combine the parsley , parsley , lime juice , the crushed salt and and zest and mix well . strain the wine and add the brine . make 2 days ; don ' t overdo all the liquid before you you want them 2 days . combine all ingredients in cocktail shaker ; shake vigorously . strain into pitcher , add water , and water sticks , pouring into lemons . thin with remaining \" bits if necessary . arrange half on 1 / 2 sticks cream in a\n",
      "\n",
      "629/629 [==============================] - 17s 28ms/step - loss: 1.5744\n",
      "Epoch 22/25\n",
      "628/629 [============================>.] - ETA: 0s - loss: 1.5636\n",
      "generated text:\n",
      "recipe for mulled cider | in a heavy saucepan combine all ingredients and the hot juice . cook the mixture over moderate heat , stirring , until the meat begin to pop , about 5 minutes occasionally or chilled . discard the veggies , and then transfer it to a bowl of hot . heat a third of olive oil in a 4 - quart heavy pot over medium - high heat . return the veal to the same wok and then add the flour mixture and blend . whisk in the oil . sweat the sauce until tender ,\n",
      "\n",
      "629/629 [==============================] - 17s 27ms/step - loss: 1.5636\n",
      "Epoch 23/25\n",
      "628/629 [============================>.] - ETA: 0s - loss: 1.5530\n",
      "generated text:\n",
      "recipe for raspberry date torte | put parsnips , prunes , and parsnips in oven . bake uncovered until just before continuing . carefully invert pan onto a rack ; set pan around edges and tightly covering completely and freeze in several 1 1 / 8 hours or 1 hour before serving . serve with lemon halves . \n",
      "\n",
      "629/629 [==============================] - 16s 25ms/step - loss: 1.5529\n",
      "Epoch 24/25\n",
      "628/629 [============================>.] - ETA: 0s - loss: 1.5433\n",
      "generated text:\n",
      "recipe for [UNK] ' s thai chicken greens | in a 4 - to kettle bring the water , 6–8 quarts with maple syrup to the beans , and boil the onion , covered , for 30 minutes . pour the remaining 1 / 4 cup the scallions into the boiling water ; let sit 15 minutes , or until they are porridge is almost tender . set it aside to drain , and stirring set the sesame seeds into a small bowl . transfer the steak to a large bowl , and combine the tahini and the milk in\n",
      "\n",
      "629/629 [==============================] - 17s 27ms/step - loss: 1.5432\n",
      "Epoch 25/25\n",
      "629/629 [==============================] - ETA: 0s - loss: 1.5339\n",
      "generated text:\n",
      "recipe for raisin bread with almonds , parmesan , and sour cream | whisk flour , whole wheat nuts , baking powder , and salt in small bowl until dissolved . beat egg whites in large bowl until stiff fully moistened . mix in flour . add flour ; whisk until lightened , about 4 minutes . beat in each of yolks , lemon peel , and vanilla until combined . pour stiff dough evenly in each half . form into scones . transfer 1 dough cube with 1 tablespoon egg and half of dough rounds to come 1 /\n",
      "\n",
      "629/629 [==============================] - 18s 29ms/step - loss: 1.5339\n"
     ]
    },
    {
     "data": {
      "text/plain": [
       "<keras.callbacks.History at 0x7fa125960040>"
      ]
     },
     "execution_count": 21,
     "metadata": {},
     "output_type": "execute_result"
    }
   ],
   "source": [
    "lstm.fit(\n",
    "    train_ds,\n",
    "    epochs=EPOCHS,\n",
    "    callbacks=[model_checkpoint_callback, tensorboard_callback, text_generator],\n",
    ")"
   ]
  },
  {
   "cell_type": "code",
   "execution_count": 22,
   "id": "931a6866-7829-4f55-8733-9cb2f8fe0a62",
   "metadata": {
    "tags": []
   },
   "outputs": [
    {
     "name": "stderr",
     "output_type": "stream",
     "text": [
      "WARNING:absl:Found untraced functions such as lstm_cell_layer_call_fn, lstm_cell_layer_call_and_return_conditional_losses while saving (showing 2 of 2). These functions will not be directly callable after loading.\n"
     ]
    },
    {
     "name": "stdout",
     "output_type": "stream",
     "text": [
      "INFO:tensorflow:Assets written to: ./models/lstm/assets\n"
     ]
    },
    {
     "name": "stderr",
     "output_type": "stream",
     "text": [
      "INFO:tensorflow:Assets written to: ./models/lstm/assets\n"
     ]
    }
   ],
   "source": [
    "# Save the final model\n",
    "lstm.save(\"./models/lstm\")"
   ]
  },
  {
   "cell_type": "code",
   "execution_count": 23,
   "id": "8efdc795-6c87-4dba-bc23-4c81e8c76ad2",
   "metadata": {
    "tags": []
   },
   "outputs": [],
   "source": [
    "def print_probs(info, vocab, top_k=5):\n",
    "    for i in info:\n",
    "        print(f\"\\nPROMPT: {i['prompt']}\")\n",
    "        word_probs = i[\"word_probs\"]\n",
    "        p_sorted = np.sort(word_probs)[::-1][:top_k]\n",
    "        i_sorted = np.argsort(word_probs)[::-1][:top_k]\n",
    "        for p, i in zip(p_sorted, i_sorted):\n",
    "            print(f\"{vocab[i]}:   \\t{np.round(100*p,2)}%\")\n",
    "        print(\"--------\\n\")"
   ]
  },
  {
   "cell_type": "code",
   "execution_count": 24,
   "id": "61351851-1f31-4a76-880f-dcc945ce072b",
   "metadata": {
    "tags": []
   },
   "outputs": [
    {
     "name": "stdout",
     "output_type": "stream",
     "text": [
      "\n",
      "generated text:\n",
      "recipe for roasted vegetables | chop 1 / 2 teaspoon\n",
      "\n"
     ]
    }
   ],
   "source": [
    "info = text_generator.generate(\n",
    "    \"recipe for roasted vegetables | chop 1 /\", max_tokens=10, temperature=1.0\n",
    ")"
   ]
  },
  {
   "cell_type": "code",
   "execution_count": 25,
   "id": "6097d3a5-5db8-4c5f-9a7b-f5675f7bef60",
   "metadata": {
    "tags": []
   },
   "outputs": [
    {
     "name": "stdout",
     "output_type": "stream",
     "text": [
      "\n",
      "PROMPT: recipe for roasted vegetables | chop 1 /\n",
      "2:   \t47.4%\n",
      "4:   \t42.58%\n",
      "3:   \t5.39%\n",
      "8:   \t2.92%\n",
      "2cup:   \t0.5%\n",
      "--------\n",
      "\n",
      "\n",
      "PROMPT: recipe for roasted vegetables | chop 1 / 2\n",
      "cup:   \t72.91%\n",
      "teaspoon:   \t8.81%\n",
      "tsp:   \t7.83%\n",
      "tablespoon:   \t3.27%\n",
      "stick:   \t1.15%\n",
      "--------\n",
      "\n"
     ]
    }
   ],
   "source": [
    "print_probs(info, vocab)"
   ]
  },
  {
   "cell_type": "code",
   "execution_count": 26,
   "id": "316ff75d-123f-472c-85cb-db11747a82f1",
   "metadata": {
    "tags": []
   },
   "outputs": [
    {
     "name": "stdout",
     "output_type": "stream",
     "text": [
      "\n",
      "generated text:\n",
      "recipe for roasted vegetables | chop 1 / 2 cup\n",
      "\n"
     ]
    }
   ],
   "source": [
    "info = text_generator.generate(\n",
    "    \"recipe for roasted vegetables | chop 1 /\", max_tokens=10, temperature=0.2\n",
    ")"
   ]
  },
  {
   "cell_type": "code",
   "execution_count": 27,
   "id": "7693f090-c2da-4dca-b447-55247a7aec75",
   "metadata": {
    "tags": []
   },
   "outputs": [
    {
     "name": "stdout",
     "output_type": "stream",
     "text": [
      "\n",
      "PROMPT: recipe for roasted vegetables | chop 1 /\n",
      "2:   \t63.09%\n",
      "4:   \t36.91%\n",
      "3:   \t0.0%\n",
      "8:   \t0.0%\n",
      "2cup:   \t0.0%\n",
      "--------\n",
      "\n",
      "\n",
      "PROMPT: recipe for roasted vegetables | chop 1 / 2\n",
      "cup:   \t100.0%\n",
      "teaspoon:   \t0.0%\n",
      "tsp:   \t0.0%\n",
      "tablespoon:   \t0.0%\n",
      "stick:   \t0.0%\n",
      "--------\n",
      "\n"
     ]
    }
   ],
   "source": [
    "print_probs(info, vocab)"
   ]
  }
 ],
 "metadata": {
  "kernelspec": {
   "display_name": "Python 3 (ipykernel)",
   "language": "python",
   "name": "python3"
  },
  "language_info": {
   "codemirror_mode": {
    "name": "ipython",
    "version": 3
   },
   "file_extension": ".py",
   "mimetype": "text/x-python",
   "name": "python",
   "nbconvert_exporter": "python",
   "pygments_lexer": "ipython3",
   "version": "3.10.10"
  }
 },
 "nbformat": 4,
 "nbformat_minor": 5
}
